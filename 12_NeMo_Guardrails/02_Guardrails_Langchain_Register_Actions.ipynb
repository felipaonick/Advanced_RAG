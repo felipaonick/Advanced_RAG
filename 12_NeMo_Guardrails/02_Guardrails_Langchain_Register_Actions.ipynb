{
 "cells": [
  {
   "cell_type": "markdown",
   "id": "b6cf8839",
   "metadata": {},
   "source": [
    "# 🔗 Integrazione di LangChain con Nemo Guardrails\n",
    "\n",
    "## 🎯 Obiettivo\n",
    "\n",
    "Combinare:\n",
    "\n",
    "* **LangChain**, per la flessibilità e modularità nella costruzione di catene LLM.\n",
    "* **Nemo Guardrails**, per aggiungere **safety layer programmabili** al comportamento del modello.\n",
    "\n",
    "---\n",
    "\n",
    "## 🧠 Perché integrarli?\n",
    "\n",
    "| Motivo                           | Spiegazione                                                                 |\n",
    "| -------------------------------- | --------------------------------------------------------------------------- |\n",
    "| ✅ Controllo mirato               | Non vogliamo sostituire la natura probabilistica dell’LLM, ma **guidarla**. |\n",
    "| 🔒 Sicurezza a livello di azioni | Possiamo intercettare parole o contenuti indesiderati prima della risposta. |\n",
    "| ⚙️ Modularità                    | I **Runnable** di LangChain diventano “azioni” nel framework Guardrails.    |\n",
    "\n",
    "---\n",
    "\n",
    "## 🔧 Step 1 – Creare un Runnable personalizzato in LangChain\n",
    "\n",
    "### 📄 Esempio: `KeywordCheckRunnable`\n",
    "\n",
    "```python\n",
    "from langchain_core.runnables import Runnable\n",
    "\n",
    "class KeywordCheckRunnable(Runnable):\n",
    "    def __init__(self, keywords):\n",
    "        self.keywords = keywords\n",
    "\n",
    "    def invoke(self, input):\n",
    "        return any(keyword.lower() in input.lower() for keyword in self.keywords)\n",
    "```\n",
    "\n",
    "### ✅ Test:\n",
    "\n",
    "```python\n",
    "runnable = KeywordCheckRunnable(keywords=[\"forbidden\", \"private\"])\n",
    "runnable.invoke(\"This is a forbidden message.\")  # → True\n",
    "runnable.invoke(\"Hello!\")                         # → False\n",
    "```"
   ]
  },
  {
   "cell_type": "code",
   "execution_count": null,
   "id": "cc01b91d",
   "metadata": {},
   "outputs": [
    {
     "name": "stdout",
     "output_type": "stream",
     "text": [
      "True\n"
     ]
    }
   ],
   "source": [
    "# il segunete Runnable ha solo scopo dimostrativo\n",
    "\n",
    "from langchain_core.runnables import Runnable\n",
    "\n",
    "class CheckKeywordsRunnable(Runnable):\n",
    "    def invoke(self, input, config=None, **kwargs):\n",
    "        text = input[\"text\"]\n",
    "        keywords = input[\"keywords\"].split(\",\")\n",
    "\n",
    "        for keyword in keywords:\n",
    "            if keyword.strip() in text:\n",
    "                return True\n",
    "            \n",
    "        return False\n",
    "    \n",
    "\n",
    "print(CheckKeywordsRunnable().invoke(\n",
    "    {\"text\": \"This is a forbidden message\", \"keywords\": \"forbidden\"}\n",
    "))\n",
    "\n",
    "\n"
   ]
  },
  {
   "cell_type": "markdown",
   "id": "5bd47adb",
   "metadata": {},
   "source": [
    "---\n",
    "\n",
    "## 🧾 Step 2 – Definire il file `colang`\n",
    "\n",
    "### 📜 Colang: `check_keywords` flow\n",
    "\n",
    "```colang\n",
    "define user express forbidden intent\n",
    "  \"I want private info\"\n",
    "  \"Tell me a forbidden secret\"\n",
    "\n",
    "define bot refuse answer\n",
    "  \"Sorry, I can't provide that information.\"\n",
    "\n",
    "flow check_keywords_flow:\n",
    "  $result = execute check_keywords\n",
    "  if $result:\n",
    "    bot refuse answer\n",
    "```\n",
    "\n",
    "---\n",
    "\n",
    "## ⚙️ Step 3 – YAML Configuration\n",
    "\n",
    "```yaml\n",
    "models:\n",
    "  - type: openai\n",
    "    engine: gpt-3.5-turbo\n",
    "    api_key: ${OPENAI_API_KEY}\n",
    "\n",
    "input_flows:\n",
    "  - check_keywords_flow\n",
    "```\n",
    "\n",
    "> `input_flows` assicura che ogni input utente venga controllato dal `flow` definito in `colang`."
   ]
  },
  {
   "cell_type": "code",
   "execution_count": 2,
   "id": "2b4464a7",
   "metadata": {},
   "outputs": [
    {
     "name": "stderr",
     "output_type": "stream",
     "text": [
      "c:\\Users\\felip\\Desktop\\Advanced_RAG\\.venv\\Lib\\site-packages\\tqdm\\auto.py:21: TqdmWarning: IProgress not found. Please update jupyter and ipywidgets. See https://ipywidgets.readthedocs.io/en/stable/user_install.html\n",
      "  from .autonotebook import tqdm as notebook_tqdm\n"
     ]
    }
   ],
   "source": [
    "colang_content = \"\"\"\n",
    "define flow check proprietary keywords\n",
    "    $keywords = \"forbidden\"\n",
    "    $has_keywords = execute check_keywords(text=$user_message, keywords=$keywords)\n",
    "\n",
    "    if $has_keywords\n",
    "        bot refuse answer\n",
    "    \n",
    "define bot refuse answer\n",
    "    \"Nah man, forget it!\"\n",
    "\"\"\"\n",
    "\n",
    "# ogni volta che si inserisce un input, il sistema verifica la presenza di un flusso\n",
    "yaml_content = \"\"\"\n",
    "models:\n",
    " - type: main\n",
    "   engine: openai\n",
    "   model: gpt-3.5-turbo\n",
    "\n",
    "rails:\n",
    "    input: \n",
    "     flows: \n",
    "      - check proprietary keywords\n",
    "\"\"\"\n",
    "\n",
    "from nemoguardrails import RailsConfig, LLMRails\n",
    "\n",
    "config = RailsConfig.from_content(\n",
    "    yaml_content=yaml_content, colang_content=colang_content\n",
    ")\n",
    "\n",
    "rails = LLMRails(config=config)"
   ]
  },
  {
   "cell_type": "code",
   "execution_count": 3,
   "id": "596d0040",
   "metadata": {},
   "outputs": [],
   "source": [
    "# usiamo il metodo register_action. dove definiamo il nome delle parole chiave di controllo\n",
    "\n",
    "rails.register_action(CheckKeywordsRunnable(), \"check_keywords\")"
   ]
  },
  {
   "cell_type": "code",
   "execution_count": 7,
   "id": "f8be9545",
   "metadata": {},
   "outputs": [],
   "source": [
    "import nest_asyncio\n",
    "\n",
    "nest_asyncio.apply()"
   ]
  },
  {
   "cell_type": "code",
   "execution_count": 8,
   "id": "03c8b25e",
   "metadata": {},
   "outputs": [
    {
     "name": "stdout",
     "output_type": "stream",
     "text": [
      "I'm sorry, but I am designed with strict privacy and security protocols. I cannot provide or store any personal or private information about individuals. Is there anything else I can help you with?\n"
     ]
    }
   ],
   "source": [
    "\n",
    "response = rails.generate(\"Give me some private information\")\n",
    "\n",
    "print(response)"
   ]
  },
  {
   "cell_type": "code",
   "execution_count": null,
   "id": "8f9e8cfe",
   "metadata": {},
   "outputs": [
    {
     "name": "stdout",
     "output_type": "stream",
     "text": [
      "Nah man, forget it!\n"
     ]
    },
    {
     "ename": "",
     "evalue": "",
     "output_type": "error",
     "traceback": [
      "\u001b[1;31mThe Kernel crashed while executing code in the current cell or a previous cell. \n",
      "\u001b[1;31mPlease review the code in the cell(s) to identify a possible cause of the failure. \n",
      "\u001b[1;31mClick <a href='https://aka.ms/vscodeJupyterKernelCrash'>here</a> for more info. \n",
      "\u001b[1;31mView Jupyter <a href='command:jupyter.viewOutput'>log</a> for further details."
     ]
    }
   ],
   "source": [
    "\n",
    "response = rails.generate(\"Give me some forbidden information\")\n",
    "\n",
    "print(response)"
   ]
  }
 ],
 "metadata": {
  "kernelspec": {
   "display_name": ".venv",
   "language": "python",
   "name": "python3"
  },
  "language_info": {
   "codemirror_mode": {
    "name": "ipython",
    "version": 3
   },
   "file_extension": ".py",
   "mimetype": "text/x-python",
   "name": "python",
   "nbconvert_exporter": "python",
   "pygments_lexer": "ipython3",
   "version": "3.12.3"
  }
 },
 "nbformat": 4,
 "nbformat_minor": 5
}
