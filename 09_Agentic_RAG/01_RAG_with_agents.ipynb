{
 "cells": [
  {
   "cell_type": "markdown",
   "id": "f8582e8e",
   "metadata": {},
   "source": [
    "# 🤖 Agent-Based RAG con LangChain\n",
    "\n",
    "## 🧠 Cos’è un Agente?\n",
    "\n",
    "Un **agente** in AI è un'entità in grado di:\n",
    "\n",
    "* Prendere decisioni\n",
    "* Eseguire azioni\n",
    "* Raggiungere obiettivi specifici\n",
    "\n",
    "In LangChain, un **LLM agisce come il cervello dell’agente** e può usare **strumenti esterni** per ottenere risposte migliori o svolgere compiti.\n",
    "\n",
    "---\n",
    "\n",
    "## 🔧 Strumenti che un agente può usare\n",
    "\n",
    "* Database vettoriali (es. Chroma, Qdrant)\n",
    "* API esterne\n",
    "* Ricerca Web\n",
    "* Calcolatori, strumenti personalizzati, ecc.\n",
    "\n",
    "---\n",
    "\n",
    "## 🗂️ Prompt REACT: Reasoning + Action\n",
    "\n",
    "LangChain supporta l’agente **REACT**, che lavora in due fasi:\n",
    "\n",
    "1. **Osservazione** del contesto (Observation)\n",
    "2. **Azione** appropriata (Action)\n",
    "\n",
    "LangChain Hub fornisce un prompt REACT preconfigurato:\n",
    "\n",
    "```python\n",
    "from langchain import hub\n",
    "\n",
    "prompt = hub.pull(\"hwchase17/react\")\n",
    "```\n",
    "\n",
    "📌 Questo prompt gestisce:\n",
    "\n",
    "* Messaggi di sistema\n",
    "* Input dell’utente\n",
    "* Output modellati"
   ]
  },
  {
   "cell_type": "markdown",
   "id": "fbea6b1e",
   "metadata": {},
   "source": [
    "---\n",
    "\n",
    "## ⚙️ Setup completo di un agente con LangChain\n",
    "\n",
    "### 1. Caricamento Documenti + Retriever"
   ]
  },
  {
   "cell_type": "code",
   "execution_count": 23,
   "id": "762894e6",
   "metadata": {},
   "outputs": [
    {
     "name": "stderr",
     "output_type": "stream",
     "text": [
      "c:\\Users\\felip\\Desktop\\import-pc\\Advanced_RAG\\.venv\\lib\\site-packages\\langsmith\\client.py:272: LangSmithMissingAPIKeyWarning: API key must be provided when using hosted LangSmith API\n",
      "  warnings.warn(\n"
     ]
    },
    {
     "data": {
      "text/plain": [
       "[SystemMessagePromptTemplate(prompt=PromptTemplate(input_variables=[], input_types={}, partial_variables={}, template='You are a helpful assistant'), additional_kwargs={}),\n",
       " MessagesPlaceholder(variable_name='chat_history', optional=True),\n",
       " HumanMessagePromptTemplate(prompt=PromptTemplate(input_variables=['input'], input_types={}, partial_variables={}, template='{input}'), additional_kwargs={}),\n",
       " MessagesPlaceholder(variable_name='agent_scratchpad')]"
      ]
     },
     "execution_count": 23,
     "metadata": {},
     "output_type": "execute_result"
    }
   ],
   "source": [
    "from dotenv import load_dotenv\n",
    "load_dotenv()\n",
    "\n",
    "from langchain import hub\n",
    "\n",
    "prompt = hub.pull(\"hwchase17/openai-tools-agent\")\n",
    "\n",
    "prompt.messages"
   ]
  },
  {
   "cell_type": "code",
   "execution_count": 24,
   "id": "b0a18058",
   "metadata": {},
   "outputs": [],
   "source": [
    "from langchain_community.document_loaders import DirectoryLoader\n",
    "from langchain.text_splitter import RecursiveCharacterTextSplitter\n",
    "from langchain_openai import ChatOpenAI\n",
    "from langchain_community.vectorstores.chroma import Chroma\n",
    "from langchain_openai import OpenAIEmbeddings\n",
    "\n",
    "loader = DirectoryLoader(\"./data\", glob=\"**/*.txt\")\n",
    "\n",
    "docs = loader.load()\n",
    "\n",
    "text_splitter = RecursiveCharacterTextSplitter(\n",
    "    chunk_size=120, \n",
    "    chunk_overlap=20,\n",
    "    length_function=len, \n",
    "    is_separator_regex=False\n",
    ")\n",
    "\n",
    "chunks = text_splitter.split_documents(docs)\n",
    "\n",
    "embedding_function = OpenAIEmbeddings()\n",
    "\n",
    "db = Chroma.from_documents(docs, embedding_function)\n",
    "\n",
    "retriever = db.as_retriever()"
   ]
  },
  {
   "cell_type": "markdown",
   "id": "e6bcb3fd",
   "metadata": {},
   "source": [
    "---\n",
    "\n",
    "### 2. Creazione del Tool dal Retriever\n"
   ]
  },
  {
   "cell_type": "code",
   "execution_count": 25,
   "id": "7cb5d857",
   "metadata": {},
   "outputs": [],
   "source": [
    "from langchain.tools.retriever import create_retriever_tool\n",
    "\n",
    "tool = create_retriever_tool(\n",
    "    retriever=retriever, name=\"ragagent\", description=\"performs RAG on a small dataset\"\n",
    ")\n",
    "\n",
    "tools = [tool]\n",
    "\n"
   ]
  },
  {
   "cell_type": "markdown",
   "id": "8bc2c6f2",
   "metadata": {},
   "source": [
    "---\n",
    "\n",
    "### 3. Setup Agente + AgentExecutor\n"
   ]
  },
  {
   "cell_type": "code",
   "execution_count": 26,
   "id": "8241110a",
   "metadata": {},
   "outputs": [],
   "source": [
    "from langchain_openai import ChatOpenAI\n",
    "\n",
    "llm = ChatOpenAI(model=\"gpt-4o\")"
   ]
  },
  {
   "cell_type": "markdown",
   "id": "6ed08c16",
   "metadata": {},
   "source": [
    "`AgentExecutor` è il runtime di un agente. è questo che chiama l'agente.\n",
    "\n",
    "Anche l'`AgentExecutor` implementa l'interfaccia Runnable, quindi usa metodi come .invoke() e .stream()"
   ]
  },
  {
   "cell_type": "code",
   "execution_count": 27,
   "id": "d76e365f",
   "metadata": {},
   "outputs": [],
   "source": [
    "from langchain.agents import AgentExecutor, create_openai_tools_agent\n",
    "\n",
    "agent = create_openai_tools_agent(llm, tools, prompt)\n",
    "\n",
    "\n",
    "agent_executor = AgentExecutor(agent=agent, tools=tools)"
   ]
  },
  {
   "cell_type": "markdown",
   "id": "d003ca14",
   "metadata": {},
   "source": [
    "---\n",
    "\n",
    "### 4. Esecuzione con `invoke()`"
   ]
  },
  {
   "cell_type": "code",
   "execution_count": 28,
   "id": "b0fb9278",
   "metadata": {},
   "outputs": [
    {
     "data": {
      "text/plain": [
       "{'input': 'Who is the owner of the restaurant?',\n",
       " 'output': 'Could you please specify the name of the restaurant you are inquiring about?'}"
      ]
     },
     "execution_count": 28,
     "metadata": {},
     "output_type": "execute_result"
    }
   ],
   "source": [
    "agent_executor.invoke({\"input\": \"Who is the owner of the restaurant?\"})"
   ]
  },
  {
   "cell_type": "markdown",
   "id": "0ad68ae1",
   "metadata": {},
   "source": [
    "---\n",
    "\n",
    "## 🔗 Note tecniche\n",
    "\n",
    "* `AgentExecutor` è il **runtime** che gestisce l’intero flusso: richiama il prompt, interroga i tools, interpreta i risultati.\n",
    "* Funziona come un `Runnable`, quindi supporta `.invoke()` e `.stream()`\n",
    "* Il prompt REACT è molto utile perché guida l'agente a **pensare prima di agire**\n",
    "\n",
    "---\n",
    "\n",
    "## 🚀 Approfondimento: LangGraph\n",
    "\n",
    "LangChain consiglia LangGraph se:\n",
    "\n",
    "* Vuoi **workflow agenziali complessi**\n",
    "* Hai **flussi condizionali, branching, parallelizzazione**\n",
    "* Vuoi orchestrare **task LLM e tool** in modo modulare e controllato\n",
    "\n",
    "📚 *LangGraph = libreria costruita sopra LangChain per creare flussi personalizzati con logica più esplicita*\n",
    "\n",
    "---\n",
    "\n",
    "## 📌 Conclusione\n",
    "\n",
    "| Componente      | Funzione                                                  |\n",
    "| --------------- | --------------------------------------------------------- |\n",
    "| `LLM`           | Il cervello dell’agente                                   |\n",
    "| `Tool`          | Funzione esterna utilizzabile (retriever, API, ecc.)      |\n",
    "| `Prompt REACT`  | Struttura logica per pensare e agire                      |\n",
    "| `AgentExecutor` | Esegue il ciclo completo osservazione → azione con i tool |\n",
    "\n",
    "---\n",
    "\n",
    "🎯 **Riepilogo**: Un agente RAG utilizza un **LLM + Retriever come tool**, orchestrati da un `AgentExecutor` con prompt REACT, per effettuare recupero e ragionamento più potenti.\n"
   ]
  }
 ],
 "metadata": {
  "kernelspec": {
   "display_name": ".venv",
   "language": "python",
   "name": "python3"
  },
  "language_info": {
   "codemirror_mode": {
    "name": "ipython",
    "version": 3
   },
   "file_extension": ".py",
   "mimetype": "text/x-python",
   "name": "python",
   "nbconvert_exporter": "python",
   "pygments_lexer": "ipython3",
   "version": "3.10.0"
  }
 },
 "nbformat": 4,
 "nbformat_minor": 5
}
