{
 "cells": [
  {
   "cell_type": "markdown",
   "id": "c534a55a",
   "metadata": {},
   "source": [
    "# 📚 RAGAS – Tecniche di Chunking Avanzate\n",
    "\n",
    "## ❓ Perché il Chunking è ancora importante?\n",
    "\n",
    "| Motivo                  | Spiegazione                                                                              |\n",
    "| ----------------------- | ---------------------------------------------------------------------------------------- |\n",
    "| 🧠 Finestra contestuale | I modelli LLM hanno limiti di token (es. 16k → 128k → 1M), ma il chunking è ancora utile |\n",
    "| 🔎 Embedding            | Gli embedding richiedono **unità semanticamente coese** per essere efficaci              |\n",
    "| 🎯 Recupero & sintesi   | Miglior chunking = miglior **retrieval**, **answering**, e **faithfulness**              |\n",
    "\n",
    "📌 *Il chunking influenza direttamente la qualità degli embedding e quindi delle risposte generate.*\n",
    "\n",
    "Dunque creeremo un **Chunker basato su LLM** che è già risultato di gran successo in vari contesti applicativi di RAG.\n",
    "---\n",
    "\n",
    "## 🛠️ Tecniche di Chunking Esplorate\n",
    "\n",
    "### 1. ✂️ `CharacterTextSplitter` (base)\n",
    "\n",
    "```python\n",
    "from langchain.text_splitter import CharacterTextSplitter\n",
    "\n",
    "splitter = CharacterTextSplitter(\n",
    "    separator=\"\\n\",\n",
    "    chunk_size=200,\n",
    "    chunk_overlap=20\n",
    ")\n",
    "chunks = splitter.split_text(text)\n",
    "```\n",
    "\n",
    "📉 *Pro:* semplice\n",
    "📉 *Contro:* non semantico, taglia arbitrariamente"
   ]
  },
  {
   "cell_type": "code",
   "execution_count": 1,
   "id": "d7584986",
   "metadata": {},
   "outputs": [],
   "source": [
    "from dotenv import load_dotenv\n",
    "import os\n",
    "load_dotenv()\n",
    "\n",
    "openai_api_key = os.getenv(\"OPENAI_API_KEY\")"
   ]
  },
  {
   "cell_type": "code",
   "execution_count": 2,
   "id": "e1f3affe",
   "metadata": {},
   "outputs": [],
   "source": [
    "with open(\"./data/restaurant.txt\") as f:\n",
    "    raw_data = f.read()"
   ]
  },
  {
   "cell_type": "code",
   "execution_count": 3,
   "id": "bab7ab90",
   "metadata": {},
   "outputs": [
    {
     "name": "stdout",
     "output_type": "stream",
     "text": [
      "In the charming streets of Palermo, tucked away in a quaint alley, stood Chef Amico, a restaurant that was more than a mere eateryâ€”it was a slice of Sicilian heaven. Founded by Amico, a chef whose name was synonymous with passion and creativity, the restaurant was a mosaic of his lifeâ€™s journey through the flavors of Italy.\n",
      "\n",
      "Chef Amicoâ€™s doors opened to a world where the aromas of garlic and olive oil were as welcoming as a warm embrace. The walls, adorned with photos of Amicoâ€™s travels and family recipes, spoke of a rich culinary heritage. The chatter and laughter of patrons filled the air, creating a symphony as delightful as the dishes served.\n",
      "\n",
      "One evening, as the sun cast a golden glow over the city, a renowned food critic, Elena Rossi, stepped into Chef Amico. Her mission was to uncover the secret behind the restaurant's growing fame. She was greeted by Amico himself, whose eyes sparkled with the joy of a man who loved his work.\n",
      "\n",
      "Elena was led to a table adorned with a simple, elegant setting. The first course was Caponata, a melody of eggplant, capers, and sweet tomatoes, which danced on her palate. Next came the Risotto al Nero di Seppia, a dish that told the tale of Sicilyâ€™s love affair with the sea. Each spoonful was a revelation, the rich flavors of squid ink harmonizing with the creamy rice.\n",
      "\n",
      "The final masterpiece was Cannoli, the crown jewel of Sicilian desserts. As Elena savored the sweet ricotta filling, encased in a perfectly crisp shell, she realized that Chef Amico wasnâ€™t just about the food. It was about the stories, the traditions, and the heart poured into every dish.\n",
      "\n",
      "Leaving the restaurant, Elena knew her review would sing praises not just of the food, but of the soul of Chef Amicoâ€”a place where every dish was a journey through Sicily, and every bite, a taste of Amicoâ€™s dream come true.\n"
     ]
    }
   ],
   "source": [
    "print(raw_data)"
   ]
  },
  {
   "cell_type": "code",
   "execution_count": 5,
   "id": "d0df3200",
   "metadata": {},
   "outputs": [
    {
     "name": "stderr",
     "output_type": "stream",
     "text": [
      "Created a chunk of size 329, which is longer than the specified 200\n",
      "Created a chunk of size 331, which is longer than the specified 200\n",
      "Created a chunk of size 291, which is longer than the specified 200\n",
      "Created a chunk of size 376, which is longer than the specified 200\n",
      "Created a chunk of size 291, which is longer than the specified 200\n"
     ]
    },
    {
     "name": "stdout",
     "output_type": "stream",
     "text": [
      "['In the charming streets of Palermo, tucked away in a quaint alley, stood Chef Amico, a restaurant that was more than a mere eateryâ€”it was a slice of Sicilian heaven. Founded by Amico, a chef whose name was synonymous with passion and creativity, the restaurant was a mosaic of his lifeâ€™s journey through the flavors of Italy.', 'Chef Amicoâ€™s doors opened to a world where the aromas of garlic and olive oil were as welcoming as a warm embrace. The walls, adorned with photos of Amicoâ€™s travels and family recipes, spoke of a rich culinary heritage. The chatter and laughter of patrons filled the air, creating a symphony as delightful as the dishes served.', \"One evening, as the sun cast a golden glow over the city, a renowned food critic, Elena Rossi, stepped into Chef Amico. Her mission was to uncover the secret behind the restaurant's growing fame. She was greeted by Amico himself, whose eyes sparkled with the joy of a man who loved his work.\", 'Elena was led to a table adorned with a simple, elegant setting. The first course was Caponata, a melody of eggplant, capers, and sweet tomatoes, which danced on her palate. Next came the Risotto al Nero di Seppia, a dish that told the tale of Sicilyâ€™s love affair with the sea. Each spoonful was a revelation, the rich flavors of squid ink harmonizing with the creamy rice.', 'The final masterpiece was Cannoli, the crown jewel of Sicilian desserts. As Elena savored the sweet ricotta filling, encased in a perfectly crisp shell, she realized that Chef Amico wasnâ€™t just about the food. It was about the stories, the traditions, and the heart poured into every dish.', 'Leaving the restaurant, Elena knew her review would sing praises not just of the food, but of the soul of Chef Amicoâ€”a place where every dish was a journey through Sicily, and every bite, a taste of Amicoâ€™s dream come true.']\n",
      "6\n"
     ]
    }
   ],
   "source": [
    "from langchain.text_splitter import CharacterTextSplitter\n",
    "\n",
    "text_splitter = CharacterTextSplitter(\n",
    "    separator=\"\\n\",\n",
    "    chunk_size=200,\n",
    "    chunk_overlap=20,\n",
    "    length_function=len, \n",
    "    is_separator_regex=False\n",
    ")\n",
    "\n",
    "docs = text_splitter.split_text(raw_data)\n",
    "print(docs)\n",
    "print(len(docs))"
   ]
  },
  {
   "cell_type": "markdown",
   "id": "5086d08d",
   "metadata": {},
   "source": [
    "---\n",
    "\n",
    "### 2. 🔁 `RecursiveCharacterTextSplitter` (raccomandato)\n",
    "\n",
    "```python\n",
    "from langchain.text_splitter import RecursiveCharacterTextSplitter\n",
    "\n",
    "splitter = RecursiveCharacterTextSplitter(\n",
    "    chunk_size=200,\n",
    "    chunk_overlap=20,\n",
    "    separators=[\"\\n\\n\", \"\\n\", \".\", \"!\", \"?\", \",\", \" \", \"\"]\n",
    ")\n",
    "chunks = splitter.split_text(text)\n",
    "```\n",
    "\n",
    "📈 *Pro:* migliore coerenza, usa separatori gerarchici\n",
    "📉 *Contro:* ancora non semantico, ancora non cattura il significato semantico del testo nei chunks\n"
   ]
  },
  {
   "cell_type": "code",
   "execution_count": 6,
   "id": "c78b278e",
   "metadata": {},
   "outputs": [
    {
     "name": "stdout",
     "output_type": "stream",
     "text": [
      "['In the charming streets of Palermo, tucked away in a quaint alley, stood Chef Amico, a restaurant that was more than a mere eateryâ€”it was a slice of Sicilian heaven. Founded by Amico', ', a chef whose name was synonymous with passion and creativity, the restaurant was a mosaic of his lifeâ€™s journey through the flavors of Italy.', 'Chef Amicoâ€™s doors opened to a world where the aromas of garlic and olive oil were as welcoming as a warm embrace. The walls, adorned with photos of Amicoâ€™s travels and family recipes', ', spoke of a rich culinary heritage. The chatter and laughter of patrons filled the air, creating a symphony as delightful as the dishes served.', 'One evening, as the sun cast a golden glow over the city, a renowned food critic, Elena Rossi', \", Elena Rossi, stepped into Chef Amico. Her mission was to uncover the secret behind the restaurant's growing fame. She was greeted by Amico himself\", ', whose eyes sparkled with the joy of a man who loved his work.', 'Elena was led to a table adorned with a simple, elegant setting. The first course was Caponata, a melody of eggplant, capers, and sweet tomatoes', ', and sweet tomatoes, which danced on her palate. Next came the Risotto al Nero di Seppia, a dish that told the tale of Sicilyâ€™s love affair with the sea. Each spoonful was a revelation', ', the rich flavors of squid ink harmonizing with the creamy rice.', 'The final masterpiece was Cannoli, the crown jewel of Sicilian desserts. As Elena savored the sweet ricotta filling, encased in a perfectly crisp shell', ', she realized that Chef Amico wasnâ€™t just about the food. It was about the stories, the traditions, and the heart poured into every dish.', 'Leaving the restaurant, Elena knew her review would sing praises not just of the food, but of the soul of Chef Amicoâ€”a place where every dish was a journey through Sicily, and every bite', ', and every bite, a taste of Amicoâ€™s dream come true.']\n",
      "14\n"
     ]
    }
   ],
   "source": [
    "from langchain.text_splitter import RecursiveCharacterTextSplitter\n",
    "\n",
    "splitter = RecursiveCharacterTextSplitter(\n",
    "    chunk_size = 200, \n",
    "    chunk_overlap=20,\n",
    "    length_function=len, \n",
    "    is_separator_regex=False,\n",
    "    separators=[\"\\n\\n\", \"\\n\", \",\"]\n",
    ")\n",
    "\n",
    "docs = splitter.split_text(raw_data)\n",
    "print(docs)\n",
    "print(len(docs))"
   ]
  },
  {
   "cell_type": "markdown",
   "id": "0b4bcf7d",
   "metadata": {},
   "source": [
    "---\n",
    "\n",
    "### 3. 🧠 `SemanticChunker` (embedding-aware, sperimentale)\n",
    "\n",
    "```python\n",
    "from langchain_experimental.text_splitter import SemanticChunker\n",
    "from langchain.embeddings import OpenAIEmbeddings\n",
    "\n",
    "chunker = SemanticChunker(OpenAIEmbeddings())\n",
    "chunks = chunker.split_text(text)\n",
    "```\n",
    "\n",
    "🧪 *Funzionamento:*\n",
    "\n",
    "* Divide in frasi (piccoli chunks) ➡️ crea embedding ➡️ combina le frasi più simili in un nuovo chunk più grande\n",
    "* Ci fermiamo davanti ad una soglia di \"semantic break\" predefinita. Questa soglia decide se mantenere i chunks separati o combinarli in chunks più grandi e semanticamente coerenti.\n",
    "\n",
    "📈 *Pro:* chunk semanticamente coesi\n",
    "📉 *Contro:* talvolta troppo pochi chunk (es. solo 2)"
   ]
  },
  {
   "cell_type": "code",
   "execution_count": null,
   "id": "fd5b64c7",
   "metadata": {},
   "outputs": [
    {
     "name": "stdout",
     "output_type": "stream",
     "text": [
      "text-embedding-ada-002\n"
     ]
    }
   ],
   "source": [
    "from langchain_experimental.text_splitter import SemanticChunker\n",
    "from langchain_openai.embeddings import OpenAIEmbeddings\n",
    "\n",
    "embeddings = OpenAIEmbeddings()\n",
    "\n",
    "print(embeddings.model)\n",
    "\n",
    "text_splitter = SemanticChunker(OpenAIEmbeddings())\n"
   ]
  },
  {
   "cell_type": "code",
   "execution_count": 10,
   "id": "25f8a41b",
   "metadata": {},
   "outputs": [
    {
     "name": "stdout",
     "output_type": "stream",
     "text": [
      "[\"In the charming streets of Palermo, tucked away in a quaint alley, stood Chef Amico, a restaurant that was more than a mere eateryâ€”it was a slice of Sicilian heaven. Founded by Amico, a chef whose name was synonymous with passion and creativity, the restaurant was a mosaic of his lifeâ€™s journey through the flavors of Italy. Chef Amicoâ€™s doors opened to a world where the aromas of garlic and olive oil were as welcoming as a warm embrace. The walls, adorned with photos of Amicoâ€™s travels and family recipes, spoke of a rich culinary heritage. The chatter and laughter of patrons filled the air, creating a symphony as delightful as the dishes served. One evening, as the sun cast a golden glow over the city, a renowned food critic, Elena Rossi, stepped into Chef Amico. Her mission was to uncover the secret behind the restaurant's growing fame. She was greeted by Amico himself, whose eyes sparkled with the joy of a man who loved his work.\", 'Elena was led to a table adorned with a simple, elegant setting. The first course was Caponata, a melody of eggplant, capers, and sweet tomatoes, which danced on her palate. Next came the Risotto al Nero di Seppia, a dish that told the tale of Sicilyâ€™s love affair with the sea. Each spoonful was a revelation, the rich flavors of squid ink harmonizing with the creamy rice. The final masterpiece was Cannoli, the crown jewel of Sicilian desserts. As Elena savored the sweet ricotta filling, encased in a perfectly crisp shell, she realized that Chef Amico wasnâ€™t just about the food. It was about the stories, the traditions, and the heart poured into every dish. Leaving the restaurant, Elena knew her review would sing praises not just of the food, but of the soul of Chef Amicoâ€”a place where every dish was a journey through Sicily, and every bite, a taste of Amicoâ€™s dream come true.']\n",
      "2\n"
     ]
    }
   ],
   "source": [
    "docs = text_splitter.split_text(raw_data)\n",
    "print(docs)\n",
    "print(len(docs))"
   ]
  },
  {
   "cell_type": "markdown",
   "id": "68b8448a",
   "metadata": {},
   "source": [
    "---\n",
    "\n",
    "### 4. 🤖 `LLM-based Chunking` (custom GPT splitter)\n",
    "\n",
    "📌 Miglior risultato aziendale nel caso d'uso dell’autore\n",
    "⚠️ *Costo elevato (chiamate a GPT-4 / GPT-3.5)*\n",
    "\n",
    "#### 👨‍💻 Esempio di Implementazione: `GPTSplitter`\n",
    "\n",
    "📈 *Pro:* chunking guidato semantico\n",
    "🎯 *Few-shot prompting* con esempi rilevanti al dominio migliora l’output\n",
    "📉 *Contro:* costo + latenza"
   ]
  },
  {
   "cell_type": "code",
   "execution_count": 15,
   "id": "ac161635",
   "metadata": {},
   "outputs": [],
   "source": [
    "import re\n",
    "from langchain_openai import ChatOpenAI\n",
    "from typing import List, Any\n",
    "from langchain.text_splitter import TextSplitter\n",
    "from langchain_core.prompts import ChatPromptTemplate\n",
    "from langchain_core.output_parsers import StrOutputParser\n",
    "from langchain_core.runnables import RunnablePassthrough\n",
    "\n",
    "# la classe base TextSplitter ha come abstractmetho split_text, quindi va implementato per forza\n",
    "class GPTSplitter(TextSplitter):\n",
    "    def __init__(self, model_name: str = \"gpt-3.5-turbo\", **kwargs: Any) -> None:\n",
    "        super().__init__(**kwargs)\n",
    "        self.model = ChatOpenAI(model=model_name)\n",
    "\n",
    "        # definiamo il nostro prompt\n",
    "        self.prompt = ChatPromptTemplate.from_template(\n",
    "            \"You are an expert in identifying semantic meaning of text. \"\n",
    "            \"You warp each chunk in <<<>>>.\\n\\n\"\n",
    "            \"Example:\\n\"\n",
    "            \"Text: \\\"The curious cat perched on the windowsill, its eyes wide as it watched the fluttering birds outside. \"\n",
    "            \"With a swift leap, it was on the ground, stealthily making its way towards the door. \"\n",
    "            \"Suddenly, a noise startled it, causing the cat to freeze in place.\\\"\\n\"\n",
    "            \"Wrapped:\\n\"\n",
    "            \"<<<The curious cat perched on the windowsill, its eyes wide as it watched the fluttering birds outside.>>>\\n\"\n",
    "            \"<<<With a swift leap, it was on the ground, stealthily making its way towards the door.>>>\\n\"\n",
    "            \"<<<Suddenly, a noise startled it, causing the cat to freeze in place.>>>\\n\\n\"\n",
    "            \"Now, process the following text:\\n\\n\"\n",
    "            \"{text}\"\n",
    "        )\n",
    "\n",
    "        self.output_parser =  StrOutputParser()\n",
    "\n",
    "        self.chain = (\n",
    "            {\"text\": RunnablePassthrough()}\n",
    "            | self.prompt\n",
    "            | self.model\n",
    "            | self.output_parser\n",
    "        )\n",
    "\n",
    "    # metodo necessario\n",
    "    def split_text(self, text: str) -> List[str]:\n",
    "        response = self.chain.invoke({\"text\": text})\n",
    "        # usiamo regex per splittare appropriatamente da <<< e >>> markers\n",
    "        # troviamo tutti gli elementi contenuti in <<<>>>\n",
    "        # (.*?) . = qualsiasi carattere \n",
    "        chunks = re.findall(r\"<<<(.*?)>>>\", response, re.DOTALL) # da una lista\n",
    "        return [chunk.strip() for chunk in chunks] # strip: pulisce i chunks da spazi e newline inutili\n",
    "\n"
   ]
  },
  {
   "cell_type": "code",
   "execution_count": 16,
   "id": "38776582",
   "metadata": {},
   "outputs": [],
   "source": [
    "# istanziamo la nostra classe\n",
    "gpt_splitter = GPTSplitter()\n",
    "gpt_docs = gpt_splitter.split_text(raw_data)"
   ]
  },
  {
   "cell_type": "code",
   "execution_count": 17,
   "id": "871e3777",
   "metadata": {},
   "outputs": [
    {
     "name": "stdout",
     "output_type": "stream",
     "text": [
      "['In the charming streets of Palermo, tucked away in a quaint alley, stood Chef Amico, a restaurant that was more than a mere eateryâ€”it was a slice of Sicilian heaven.', 'Founded by Amico, a chef whose name was synonymous with passion and creativity, the restaurant was a mosaic of his lifeâ€™s journey through the flavors of Italy.', 'Chef Amicoâ€™s doors opened to a world where the aromas of garlic and olive oil were as welcoming as a warm embrace.', 'The walls, adorned with photos of Amicoâ€™s travels and family recipes, spoke of a rich culinary heritage.', 'The chatter and laughter of patrons filled the air, creating a symphony as delightful as the dishes served.', 'One evening, as the sun cast a golden glow over the city, a renowned food critic, Elena Rossi, stepped into Chef Amico.', \"Her mission was to uncover the secret behind the restaurant's growing fame. She was greeted by Amico himself, whose eyes sparkled with the joy of a man who loved his work.\", 'Elena was led to a table adorned with a simple, elegant setting.', 'The first course was Caponata, a melody of eggplant, capers, and sweet tomatoes, which danced on her palate.', 'Next came the Risotto al Nero di Seppia, a dish that told the tale of Sicilyâ€™s love affair with the sea.', 'Each spoonful was a revelation, the rich flavors of squid ink harmonizing with the creamy rice.', 'The final masterpiece was Cannoli, the crown jewel of Sicilian desserts.', 'As Elena savored the sweet ricotta filling, encased in a perfectly crisp shell, she realized that Chef Amico wasnâ€™t just about the food.', 'It was about the stories, the traditions, and the heart poured into every dish.', 'Leaving the restaurant, Elena knew her review would sing praises not just of the food, but of the soul of Chef Amicoâ€”a place where every dish was a journey through Sicily, and every bite, a taste of Amicoâ€™s dream come true.']\n"
     ]
    }
   ],
   "source": [
    "print(gpt_docs)"
   ]
  },
  {
   "cell_type": "code",
   "execution_count": 18,
   "id": "a4192289",
   "metadata": {},
   "outputs": [
    {
     "name": "stdout",
     "output_type": "stream",
     "text": [
      "15\n"
     ]
    }
   ],
   "source": [
    "print(len(gpt_docs))"
   ]
  },
  {
   "cell_type": "code",
   "execution_count": 20,
   "id": "747f5f00",
   "metadata": {},
   "outputs": [
    {
     "data": {
      "text/plain": [
       "'In the charming streets of Palermo, tucked away in a quaint alley, stood Chef Amico, a restaurant that was more than a mere eateryâ€”it was a slice of Sicilian heaven.'"
      ]
     },
     "execution_count": 20,
     "metadata": {},
     "output_type": "execute_result"
    }
   ],
   "source": [
    "gpt_docs[0]"
   ]
  },
  {
   "cell_type": "markdown",
   "id": "e815cc95",
   "metadata": {},
   "source": [
    "---\n",
    "\n",
    "## 📊 Confronto Tecniche\n",
    "\n",
    "| Tecnica                 | Semantico | Complessità | Accuratezza | Chunk Count | Costo     |\n",
    "| ----------------------- | --------- | ----------- | ----------- | ----------- | --------- |\n",
    "| `CharacterTextSplitter` | ❌         | 🟢 Bassa    | 🔴 Bassa    | 🟢 \\~6      | 🟢 0€     |\n",
    "| `RecursiveTextSplitter` | ❌         | 🟢 Bassa    | 🟠 Media    | 🟡 \\~12     | 🟢 0€     |\n",
    "| `SemanticChunker`       | ✅         | 🟠 Media    | 🟢 Alta     | 🔴 \\~2      | 🟠 API    |\n",
    "| `GPTSplitter (LLM)`     | ✅✅        | 🔴 Alta     | 🟢🔵 Ottima | 🟢 \\~16     | 🔴 \\$\\$\\$ |\n",
    "\n",
    "---\n",
    "\n",
    "## 🧠 Suggerimenti Finali\n",
    "\n",
    "* 🔁 **Itera sul prompt LLM** con esempi di dominio (manuali auto, medicina, ricette…)\n",
    "* ⚖️ **Bilancia chunk size** e **quantità** per non penalizzare il retriever\n",
    "* 📐 Usa il chunking *più semantico possibile* per embedding-based RAG\n",
    "\n",
    "---\n",
    "\n",
    "## 🔜 Prossimo step\n",
    "\n",
    "➡️ Studio dei modelli di **embedding** per completare la catena semantica dopo il chunking!"
   ]
  }
 ],
 "metadata": {
  "kernelspec": {
   "display_name": ".venv",
   "language": "python",
   "name": "python3"
  },
  "language_info": {
   "codemirror_mode": {
    "name": "ipython",
    "version": 3
   },
   "file_extension": ".py",
   "mimetype": "text/x-python",
   "name": "python",
   "nbconvert_exporter": "python",
   "pygments_lexer": "ipython3",
   "version": "3.10.0"
  }
 },
 "nbformat": 4,
 "nbformat_minor": 5
}
