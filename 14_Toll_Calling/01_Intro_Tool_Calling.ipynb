{
 "cells": [
  {
   "cell_type": "markdown",
   "id": "e624d9e1",
   "metadata": {},
   "source": [
    "# 🛠️ Tool Calling con LangChain e LLM\n",
    "\n",
    "## 🎯 Obiettivo\n",
    "\n",
    "Consentire a un **LLM di rispondere a domande** a cui non può rispondere autonomamente, **delegando ad API esterne** tramite strumenti strutturati.\n",
    "\n",
    "---\n",
    "\n",
    "## 🤔 Perché usare il Tool Calling?\n",
    "\n",
    "| Scenario                      | Tecnica        | Quando usarla                                 |\n",
    "| ----------------------------- | -------------- | --------------------------------------------- |\n",
    "| Domanda fuori contesto LLM    | ❌ No risposta  | Limite del knowledge cutoff                   |\n",
    "| Recupero da documenti statici | ✅ RAG          | Info interne, storiche, aziendali             |\n",
    "| Accesso a dati in tempo reale | ✅ Tool Calling | Meteo, API esterne, disponibilità, web search |"
   ]
  },
  {
   "cell_type": "markdown",
   "id": "2815f38f",
   "metadata": {},
   "source": [
    "---\n",
    "\n",
    "## 🧪 Esempio: Meteo e disponibilità all’aperto\n",
    "\n",
    "### 🧭 Obiettivo\n",
    "\n",
    "Rispondere a:\n",
    "\n",
    "> “Che tempo farà oggi a Monaco? Avete ancora posti disponibili all’aperto?”\n",
    "\n",
    "---\n",
    "\n",
    "## ⚙️ Step 1 – Istanziazione del modello\n",
    "\n",
    "```python\n",
    "from langchain_openai import ChatOpenAI\n",
    "\n",
    "llm = ChatOpenAI(model=\"gpt-3.5-turbo\", temperature=0)\n",
    "```"
   ]
  },
  {
   "cell_type": "code",
   "execution_count": 1,
   "id": "6b44eb49",
   "metadata": {},
   "outputs": [
    {
     "data": {
      "text/plain": [
       "True"
      ]
     },
     "execution_count": 1,
     "metadata": {},
     "output_type": "execute_result"
    }
   ],
   "source": [
    "from dotenv import load_dotenv\n",
    "load_dotenv()"
   ]
  },
  {
   "cell_type": "code",
   "execution_count": 1,
   "id": "ddd26674",
   "metadata": {},
   "outputs": [
    {
     "data": {
      "text/plain": [
       "AIMessage(content='I am unable to provide real-time weather updates. I recommend checking a reliable weather website or app for the most up-to-date information on the weather in Munich today.', additional_kwargs={'refusal': None}, response_metadata={'token_usage': {'completion_tokens': 33, 'prompt_tokens': 17, 'total_tokens': 50, 'completion_tokens_details': {'accepted_prediction_tokens': 0, 'audio_tokens': 0, 'reasoning_tokens': 0, 'rejected_prediction_tokens': 0}, 'prompt_tokens_details': {'audio_tokens': 0, 'cached_tokens': 0}}, 'model_name': 'gpt-3.5-turbo-0125', 'system_fingerprint': None, 'id': 'chatcmpl-BvqQf9B1cLx84SC8KoxZ6CNuvk0xg', 'service_tier': 'default', 'finish_reason': 'stop', 'logprobs': None}, id='run--58df3c21-d13f-49f5-bfe5-05113c3f04f4-0', usage_metadata={'input_tokens': 17, 'output_tokens': 33, 'total_tokens': 50, 'input_token_details': {'audio': 0, 'cache_read': 0}, 'output_token_details': {'audio': 0, 'reasoning': 0}})"
      ]
     },
     "execution_count": 1,
     "metadata": {},
     "output_type": "execute_result"
    }
   ],
   "source": [
    "from langchain_openai import ChatOpenAI\n",
    "\n",
    "llm = ChatOpenAI()\n",
    "\n",
    "llm.invoke(\"How will the weather be in munich today?\")"
   ]
  },
  {
   "cell_type": "markdown",
   "id": "9edb1ad8",
   "metadata": {},
   "source": [
    "Come vediamo l'LLM non può rispondere a tale domanda dato che l'LLM non ha accesso a informazioni in tempo reale. \n",
    "\n",
    "Possiamo dare all'LLM dei tools che ci permettano di collegarsi al mondo esterno e langchain lo rende piuttosto semplice."
   ]
  },
  {
   "cell_type": "markdown",
   "id": "3637a891",
   "metadata": {},
   "source": [
    "---\n",
    "\n",
    "## 🧩 Step 2 – Definizione degli strumenti\n",
    "\n",
    "### Metodo 1: Decoratore `@tool`\n",
    "\n",
    "```python\n",
    "from langchain.tools import tool\n",
    "\n",
    "@tool\n",
    "def check_weather(city: str) -> str:\n",
    "    \"\"\"Controlla il meteo per una città.\n",
    "    \n",
    "    Args:\n",
    "        city: Nome della città\n",
    "    \n",
    "    Returns:\n",
    "        Una stringa con il meteo attuale.\n",
    "    \"\"\"\n",
    "    return f\"Oggi a {city} il tempo è soleggiato con 22°C.\"\n",
    "\n",
    "@tool\n",
    "def check_outdoor_seating() -> str:\n",
    "    \"\"\"Verifica disponibilità dei posti a sedere all'aperto.\"\"\"\n",
    "    return \"Sono disponibili posti a sedere all'aperto.\"\n",
    "```\n",
    "\n",
    "---\n",
    "\n",
    "### Metodo 2: Con `Pydantic` (alternativa)\n",
    "\n",
    "```python\n",
    "from langchain_core.pydantic_v1 import BaseModel, Field\n",
    "\n",
    "class WeatherCheck(BaseModel):\n",
    "    \"\"\"Check the weather in a specified city.\"\"\"\n",
    "\n",
    "    city: str = Field(..., description=\"Name of the city to check the weather for\")\n",
    "\n",
    "\n",
    "class OutdoorSeatingCheck(BaseModel):\n",
    "    \"\"\"Check if outdoor seating is available at a specified restaurant in a given city.\"\"\"\n",
    "\n",
    "    city: str = Field(..., description=\"Name of the city where the restaurant is located\")\n",
    "\n",
    "\n",
    "tools = [WeatherCheck, OutdoorSeatingCheck]\n",
    "```\n",
    "\n",
    "---\n",
    "\n",
    "## 🧩 Step 3 – Binding degli strumenti al LLM\n",
    "\n",
    "```python\n",
    "llm_with_tools = llm.bind_tools([check_weather, check_outdoor_seating])\n",
    "```"
   ]
  },
  {
   "cell_type": "code",
   "execution_count": 2,
   "id": "2b5096a1",
   "metadata": {},
   "outputs": [],
   "source": [
    "# definiamo i tools usando il decoratore @tool\n",
    "from langchain.tools import tool\n",
    "\n",
    "@tool\n",
    "def fake_weather_api(city: str) -> str:\n",
    "    \"\"\"\n",
    "    Check the weather in a specified city.\n",
    "\n",
    "    Args: \n",
    "        city (str): The name of the city where you want to check the weather.\n",
    "\n",
    "    Returns:\n",
    "        str: A description of the current weather in the specified city.\n",
    "    \"\"\"\n",
    "    return \"Sunny, 22°C\"\n",
    "\n",
    "\n",
    "@tool\n",
    "def outdoor_seating_availability(city: str) -> str:\n",
    "    \"\"\"\n",
    "    Check if outdoor seating is available at a specified restaurant in a given city.\n",
    "\n",
    "    Args: \n",
    "        city (str): The name of the city where you want to check for outdoor seating availability.\n",
    "\n",
    "    Returns:\n",
    "        str: A message stating whether outdoor seating is available or not.\n",
    "    \"\"\"\n",
    "\n",
    "    return \"Outdoor seating is available.\"\n",
    "\n",
    "\n",
    "tools = [fake_weather_api, outdoor_seating_availability]\n",
    "\n"
   ]
  },
  {
   "cell_type": "code",
   "execution_count": 3,
   "id": "2370ae47",
   "metadata": {},
   "outputs": [],
   "source": [
    "llm_with_tools = llm.bind_tools(tools)"
   ]
  },
  {
   "cell_type": "code",
   "execution_count": 4,
   "id": "f70139c2",
   "metadata": {},
   "outputs": [
    {
     "data": {
      "text/plain": [
       "AIMessage(content='', additional_kwargs={'tool_calls': [{'id': 'call_EeVv7ifuF4DNhChGKpDJqTs4', 'function': {'arguments': '{\"city\":\"Munich\"}', 'name': 'fake_weather_api'}, 'type': 'function'}], 'refusal': None}, response_metadata={'token_usage': {'completion_tokens': 17, 'prompt_tokens': 172, 'total_tokens': 189, 'completion_tokens_details': {'accepted_prediction_tokens': 0, 'audio_tokens': 0, 'reasoning_tokens': 0, 'rejected_prediction_tokens': 0}, 'prompt_tokens_details': {'audio_tokens': 0, 'cached_tokens': 0}}, 'model_name': 'gpt-3.5-turbo-0125', 'system_fingerprint': None, 'id': 'chatcmpl-BvqpD4dzRKLmCRpklej7PzvRYRtAa', 'service_tier': 'default', 'finish_reason': 'tool_calls', 'logprobs': None}, id='run--1c918183-56e3-47b5-8851-27c02b707477-0', tool_calls=[{'name': 'fake_weather_api', 'args': {'city': 'Munich'}, 'id': 'call_EeVv7ifuF4DNhChGKpDJqTs4', 'type': 'tool_call'}], usage_metadata={'input_tokens': 172, 'output_tokens': 17, 'total_tokens': 189, 'input_token_details': {'audio': 0, 'cache_read': 0}, 'output_token_details': {'audio': 0, 'reasoning': 0}})"
      ]
     },
     "execution_count": 4,
     "metadata": {},
     "output_type": "execute_result"
    }
   ],
   "source": [
    "result = llm_with_tools.invoke(\"How will the weather be in munich today?\")\n",
    "\n",
    "result"
   ]
  },
  {
   "cell_type": "markdown",
   "id": "d41a931a",
   "metadata": {},
   "source": [
    "**tool_calls** è una lista di dizionari che contengono il nome della funzione che dobbiamo chiamare per rispondere alla domanda e anche i suoi argomenti. \n",
    "\n",
    "```python\n",
    "tool_calls=[{'name': 'fake_weather_api', 'args': {'city': 'Munich'}, 'id': 'call_EeVv7ifuF4DNhChGKpDJqTs4', 'type': 'tool_call'}]\n",
    "```\n",
    "\n",
    "A volte, un singolo tool non è sufficiente per rispondere a una domanda. Supponiamo che l'utente ponga la seguente domanda: \"How will the weather be in munich today? Do you still have seats outdoor available?\"\n",
    "\n",
    "In questo caso abbiamo bisogno di due tools per dare una risposta concreta"
   ]
  },
  {
   "cell_type": "code",
   "execution_count": 5,
   "id": "2850ee8b",
   "metadata": {},
   "outputs": [
    {
     "data": {
      "text/plain": [
       "AIMessage(content='', additional_kwargs={'tool_calls': [{'id': 'call_dhzY82Vnu23OfSVXhtgkXFcZ', 'function': {'arguments': '{\"city\": \"Munich\"}', 'name': 'fake_weather_api'}, 'type': 'function'}, {'id': 'call_oRVJ1xjySmZofhTvTQXUxfRE', 'function': {'arguments': '{\"city\": \"Munich\"}', 'name': 'outdoor_seating_availability'}, 'type': 'function'}], 'refusal': None}, response_metadata={'token_usage': {'completion_tokens': 52, 'prompt_tokens': 180, 'total_tokens': 232, 'completion_tokens_details': {'accepted_prediction_tokens': 0, 'audio_tokens': 0, 'reasoning_tokens': 0, 'rejected_prediction_tokens': 0}, 'prompt_tokens_details': {'audio_tokens': 0, 'cached_tokens': 0}}, 'model_name': 'gpt-3.5-turbo-0125', 'system_fingerprint': None, 'id': 'chatcmpl-BwwmrST9NdtGIeq4DfNxMrh5AlUJj', 'service_tier': 'default', 'finish_reason': 'tool_calls', 'logprobs': None}, id='run--656f0fb8-3b95-41da-afa5-5b1e46fdcfd3-0', tool_calls=[{'name': 'fake_weather_api', 'args': {'city': 'Munich'}, 'id': 'call_dhzY82Vnu23OfSVXhtgkXFcZ', 'type': 'tool_call'}, {'name': 'outdoor_seating_availability', 'args': {'city': 'Munich'}, 'id': 'call_oRVJ1xjySmZofhTvTQXUxfRE', 'type': 'tool_call'}], usage_metadata={'input_tokens': 180, 'output_tokens': 52, 'total_tokens': 232, 'input_token_details': {'audio': 0, 'cache_read': 0}, 'output_token_details': {'audio': 0, 'reasoning': 0}})"
      ]
     },
     "execution_count": 5,
     "metadata": {},
     "output_type": "execute_result"
    }
   ],
   "source": [
    "result = llm_with_tools.invoke(\n",
    "    \"How will the weather be in munich today? Do you still have seats outdoor available?\"\n",
    ")\n",
    "\n",
    "result"
   ]
  },
  {
   "cell_type": "markdown",
   "id": "14a8d903",
   "metadata": {},
   "source": [
    "come vediamo per rispondere a questa domanda il modello ha usato entrambe i tools:\n",
    "\n",
    "```python\n",
    "tool_calls=[{'name': 'fake_weather_api', 'args': {'city': 'Munich'}, 'id': 'call_dhzY82Vnu23OfSVXhtgkXFcZ', 'type': 'tool_call'}, {'name': 'outdoor_seating_availability', 'args': {'city': 'Munich'}, 'id': 'call_oRVJ1xjySmZofhTvTQXUxfRE', 'type': 'tool_call'}]\n",
    "```"
   ]
  },
  {
   "cell_type": "code",
   "execution_count": 6,
   "id": "c5dfcf53",
   "metadata": {},
   "outputs": [
    {
     "data": {
      "text/plain": [
       "[{'name': 'fake_weather_api',\n",
       "  'args': {'city': 'Munich'},\n",
       "  'id': 'call_dhzY82Vnu23OfSVXhtgkXFcZ',\n",
       "  'type': 'tool_call'},\n",
       " {'name': 'outdoor_seating_availability',\n",
       "  'args': {'city': 'Munich'},\n",
       "  'id': 'call_oRVJ1xjySmZofhTvTQXUxfRE',\n",
       "  'type': 'tool_call'}]"
      ]
     },
     "execution_count": 6,
     "metadata": {},
     "output_type": "execute_result"
    }
   ],
   "source": [
    "result.tool_calls"
   ]
  },
  {
   "cell_type": "code",
   "execution_count": 7,
   "id": "98c56799",
   "metadata": {},
   "outputs": [],
   "source": [
    "from langchain_core.messages import HumanMessage, ToolMessage\n",
    "\n",
    "messages = [\n",
    "    HumanMessage(\n",
    "        \"How will the weather be in munich today? I would like to eat outside if possible\"\n",
    "    )\n",
    "]\n",
    "\n",
    "llm_output = llm_with_tools.invoke(messages)\n",
    "messages.append(llm_output)"
   ]
  },
  {
   "cell_type": "code",
   "execution_count": 8,
   "id": "a6de8cf9",
   "metadata": {},
   "outputs": [
    {
     "data": {
      "text/plain": [
       "[HumanMessage(content='How will the weather be in munich today? I would like to eat outside if possible', additional_kwargs={}, response_metadata={}),\n",
       " AIMessage(content='', additional_kwargs={'tool_calls': [{'id': 'call_bStu4zCV03fxds0RFmSzqcNT', 'function': {'arguments': '{\"city\": \"Munich\"}', 'name': 'fake_weather_api'}, 'type': 'function'}, {'id': 'call_FA2XKLcX6VcpkeOhYa0WbMyC', 'function': {'arguments': '{\"city\": \"Munich\"}', 'name': 'outdoor_seating_availability'}, 'type': 'function'}], 'refusal': None}, response_metadata={'token_usage': {'completion_tokens': 52, 'prompt_tokens': 180, 'total_tokens': 232, 'completion_tokens_details': {'accepted_prediction_tokens': 0, 'audio_tokens': 0, 'reasoning_tokens': 0, 'rejected_prediction_tokens': 0}, 'prompt_tokens_details': {'audio_tokens': 0, 'cached_tokens': 0}}, 'model_name': 'gpt-3.5-turbo-0125', 'system_fingerprint': None, 'id': 'chatcmpl-Bwx4WtkVTEw6rrAUWETzg1KgXnCu8', 'service_tier': 'default', 'finish_reason': 'tool_calls', 'logprobs': None}, id='run--cf393b0e-6ee9-4e8c-bb81-714a6c6e153a-0', tool_calls=[{'name': 'fake_weather_api', 'args': {'city': 'Munich'}, 'id': 'call_bStu4zCV03fxds0RFmSzqcNT', 'type': 'tool_call'}, {'name': 'outdoor_seating_availability', 'args': {'city': 'Munich'}, 'id': 'call_FA2XKLcX6VcpkeOhYa0WbMyC', 'type': 'tool_call'}], usage_metadata={'input_tokens': 180, 'output_tokens': 52, 'total_tokens': 232, 'input_token_details': {'audio': 0, 'cache_read': 0}, 'output_token_details': {'audio': 0, 'reasoning': 0}})]"
      ]
     },
     "execution_count": 8,
     "metadata": {},
     "output_type": "execute_result"
    }
   ],
   "source": [
    "messages"
   ]
  },
  {
   "cell_type": "markdown",
   "id": "3f5a8c71",
   "metadata": {},
   "source": [
    "---\n",
    "\n",
    "## 🛠️ Step 4 – Tool Calling Manuale\n",
    "\n",
    "### 1️⃣ Input dell’utente\n",
    "\n",
    "```python\n",
    "messages = [\n",
    "    {\"role\": \"user\", \"content\": \"Che tempo farà oggi a Monaco? Avete posti all'aperto?\"}\n",
    "]\n",
    "```\n",
    "\n",
    "### 2️⃣ Prima chiamata → Tool selected (ma no output ancora)\n",
    "\n",
    "```python\n",
    "ai_response = llm_with_tools.invoke(messages)\n",
    "# Contiene tool_calls con nome, args e tool_call_id\n",
    "```\n",
    "\n",
    "---\n",
    "\n",
    "## ⚙️ Step 5 – Esecuzione strumenti\n",
    "\n",
    "### Mapping e chiamata strumenti\n",
    "\n",
    "```python\n",
    "tool_map = {\n",
    "    \"check_weather\": check_weather,\n",
    "    \"check_outdoor_seating\": check_outdoor_seating\n",
    "}\n",
    "\n",
    "tool_outputs = []\n",
    "for call in ai_response.tool_calls:\n",
    "    tool_fn = tool_map[call[\"name\"]]\n",
    "    output = tool_fn.invoke(call[\"args\"])\n",
    "    tool_outputs.append({\n",
    "        \"tool_call_id\": call[\"id\"],\n",
    "        \"output\": output\n",
    "    })\n",
    "```\n",
    "\n",
    "---\n",
    "\n",
    "## 🔁 Step 6 – Risposta finale del LLM\n",
    "\n",
    "### Estensione dei messaggi\n",
    "\n",
    "```python\n",
    "messages.append(ai_response)\n",
    "for result in tool_outputs:\n",
    "    messages.append({\n",
    "        \"tool_call_id\": result[\"tool_call_id\"],\n",
    "        \"role\": \"tool\",\n",
    "        \"content\": result[\"output\"]\n",
    "    })\n",
    "```\n",
    "\n",
    "### Chiamata finale\n",
    "\n",
    "```python\n",
    "final_response = llm_with_tools.invoke(messages)\n",
    "```\n",
    "\n",
    "✅ Output finale:\n",
    "\n",
    "> “Oggi a Monaco il tempo è soleggiato con una temperatura di 22°C. Sono disponibili posti a sedere all'aperto.”"
   ]
  },
  {
   "cell_type": "code",
   "execution_count": 9,
   "id": "9d449ba3",
   "metadata": {},
   "outputs": [],
   "source": [
    "tool_mapping = {\n",
    "    \"fake_weather_api\": fake_weather_api,\n",
    "    \"outdoor_seating_availability\": outdoor_seating_availability\n",
    "}"
   ]
  },
  {
   "cell_type": "code",
   "execution_count": 10,
   "id": "f474172f",
   "metadata": {},
   "outputs": [],
   "source": [
    "for tool_call in llm_output.tool_calls:\n",
    "    tool = tool_mapping[tool_call['name'].lower()]\n",
    "    tool_output = tool.invoke(tool_call[\"args\"])\n",
    "    messages.append(ToolMessage(tool_output, tool_call_id=tool_call[\"id\"]))"
   ]
  },
  {
   "cell_type": "code",
   "execution_count": 11,
   "id": "b08b9024",
   "metadata": {},
   "outputs": [
    {
     "data": {
      "text/plain": [
       "[HumanMessage(content='How will the weather be in munich today? I would like to eat outside if possible', additional_kwargs={}, response_metadata={}),\n",
       " AIMessage(content='', additional_kwargs={'tool_calls': [{'id': 'call_bStu4zCV03fxds0RFmSzqcNT', 'function': {'arguments': '{\"city\": \"Munich\"}', 'name': 'fake_weather_api'}, 'type': 'function'}, {'id': 'call_FA2XKLcX6VcpkeOhYa0WbMyC', 'function': {'arguments': '{\"city\": \"Munich\"}', 'name': 'outdoor_seating_availability'}, 'type': 'function'}], 'refusal': None}, response_metadata={'token_usage': {'completion_tokens': 52, 'prompt_tokens': 180, 'total_tokens': 232, 'completion_tokens_details': {'accepted_prediction_tokens': 0, 'audio_tokens': 0, 'reasoning_tokens': 0, 'rejected_prediction_tokens': 0}, 'prompt_tokens_details': {'audio_tokens': 0, 'cached_tokens': 0}}, 'model_name': 'gpt-3.5-turbo-0125', 'system_fingerprint': None, 'id': 'chatcmpl-Bwx4WtkVTEw6rrAUWETzg1KgXnCu8', 'service_tier': 'default', 'finish_reason': 'tool_calls', 'logprobs': None}, id='run--cf393b0e-6ee9-4e8c-bb81-714a6c6e153a-0', tool_calls=[{'name': 'fake_weather_api', 'args': {'city': 'Munich'}, 'id': 'call_bStu4zCV03fxds0RFmSzqcNT', 'type': 'tool_call'}, {'name': 'outdoor_seating_availability', 'args': {'city': 'Munich'}, 'id': 'call_FA2XKLcX6VcpkeOhYa0WbMyC', 'type': 'tool_call'}], usage_metadata={'input_tokens': 180, 'output_tokens': 52, 'total_tokens': 232, 'input_token_details': {'audio': 0, 'cache_read': 0}, 'output_token_details': {'audio': 0, 'reasoning': 0}}),\n",
       " ToolMessage(content='Sunny, 22°C', tool_call_id='call_bStu4zCV03fxds0RFmSzqcNT'),\n",
       " ToolMessage(content='Outdoor seating is available.', tool_call_id='call_FA2XKLcX6VcpkeOhYa0WbMyC')]"
      ]
     },
     "execution_count": 11,
     "metadata": {},
     "output_type": "execute_result"
    }
   ],
   "source": [
    "messages"
   ]
  },
  {
   "cell_type": "code",
   "execution_count": 12,
   "id": "d3865d04",
   "metadata": {},
   "outputs": [
    {
     "data": {
      "text/plain": [
       "AIMessage(content='The weather in Munich today is sunny with a temperature of 22°C. You can enjoy eating outside as outdoor seating is available.', additional_kwargs={'refusal': None}, response_metadata={'token_usage': {'completion_tokens': 27, 'prompt_tokens': 260, 'total_tokens': 287, 'completion_tokens_details': {'accepted_prediction_tokens': 0, 'audio_tokens': 0, 'reasoning_tokens': 0, 'rejected_prediction_tokens': 0}, 'prompt_tokens_details': {'audio_tokens': 0, 'cached_tokens': 0}}, 'model_name': 'gpt-3.5-turbo-0125', 'system_fingerprint': None, 'id': 'chatcmpl-BwxG2ZyxZixMKoivgNLmvpU9SOSBd', 'service_tier': 'default', 'finish_reason': 'stop', 'logprobs': None}, id='run--c47a7388-18bc-4098-89e6-ecbac81da7bd-0', usage_metadata={'input_tokens': 260, 'output_tokens': 27, 'total_tokens': 287, 'input_token_details': {'audio': 0, 'cache_read': 0}, 'output_token_details': {'audio': 0, 'reasoning': 0}})"
      ]
     },
     "execution_count": 12,
     "metadata": {},
     "output_type": "execute_result"
    }
   ],
   "source": [
    "llm_with_tools.invoke(messages)"
   ]
  },
  {
   "cell_type": "markdown",
   "id": "18e2edc2",
   "metadata": {},
   "source": [
    "---\n",
    "\n",
    "## ✅ Vantaggi del Tool Calling\n",
    "\n",
    "| Vantaggio                      | Descrizione                                              |\n",
    "| ------------------------------ | -------------------------------------------------------- |\n",
    "| 🔌 Connessione a mondo esterno | Permette accesso ad API, database, sensori               |\n",
    "| 🎯 Risposte più affidabili     | Dati aggiornati e pertinenti                             |\n",
    "| ⚙️ Estensione modulare         | Ogni tool è isolato e riutilizzabile                     |\n",
    "| 💡 Supporto multi-tool         | Il LLM può richiedere più strumenti in una sola risposta |\n",
    "\n",
    "---\n",
    "\n",
    "## 🧠 Considerazioni finali\n",
    "\n",
    "* `tool_calls` è una **componente nativa** nei messaggi del modello OpenAI.\n",
    "* LangChain offre un **meccanismo semplice e pulito** per registrarli, invocarli e gestire la risposta.\n",
    "\n",
    "---\n",
    "\n",
    "## 📌 Conclusione\n",
    "\n",
    "Hai imparato a:\n",
    "\n",
    "* Creare strumenti interattivi per LLM\n",
    "* Insegnare al modello **quando e come** usare un tool\n",
    "* Eseguire un ciclo completo di **tool calling**\n",
    "* Costruire risposte a domande complesse combinando più strumenti\n",
    "\n",
    "> 🔜 Prossimo step (fuori corso): usare API reali (es. meteo, prenotazioni, ricerca web) per creare **agenti LLM intelligenti**"
   ]
  }
 ],
 "metadata": {
  "kernelspec": {
   "display_name": ".venv",
   "language": "python",
   "name": "python3"
  },
  "language_info": {
   "codemirror_mode": {
    "name": "ipython",
    "version": 3
   },
   "file_extension": ".py",
   "mimetype": "text/x-python",
   "name": "python",
   "nbconvert_exporter": "python",
   "pygments_lexer": "ipython3",
   "version": "3.12.3"
  }
 },
 "nbformat": 4,
 "nbformat_minor": 5
}
