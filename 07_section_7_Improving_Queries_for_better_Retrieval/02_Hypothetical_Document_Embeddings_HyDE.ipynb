{
 "cells": [
  {
   "cell_type": "markdown",
   "id": "2027e91d",
   "metadata": {},
   "source": [
    "# 🧠 Migliorare le Query RAG con HyDE (Hypothetical Document Embeddings)\n",
    "\n",
    "## ✨ Cos'è HyDE?\n",
    "\n",
    "**HyDE (Hypothetical Document Embeddings)** è una tecnica per il retrieval semantico che consiste nel:\n",
    "\n",
    "> ✅ Generare **documenti ipotetici** che potrebbero rispondere alla query dell'utente\n",
    "> ✅ Calcolare gli **embedding di questi documenti**\n",
    "> ✅ Usare tali embedding per recuperare documenti realmente presenti nel **vector store**\n",
    "\n",
    "### 🎯 Obiettivo\n",
    "\n",
    "Superare i limiti della query originale generando **risposte ipotetiche** che:\n",
    "\n",
    "* Riflettono vari **punti di vista**\n",
    "* Sono più **dense semanticamente**\n",
    "* Si avvicinano meglio ai documenti nel vector store\n",
    "\n",
    "---\n",
    "\n",
    "## 🧪 Differenze con il Multi-Query Approach\n",
    "\n",
    "| Caratteristica      | Multi-Query Approach           | HyDE (Hypothetical Embedding)           |\n",
    "| ------------------- | ------------------------------ | --------------------------------------- |\n",
    "| Tipo di output      | Domande riformulate            | Risposte ipotetiche generate dall'LLM   |\n",
    "| Input nel retriever | Query linguistiche             | Risposte simulate                       |\n",
    "| Obiettivo           | Copertura di intenti semantici | Simulare risposte semanticamente ricche |\n",
    "| Vantaggio           | Adatto a domande specifiche    | Potente per query vaghe o complesse     |"
   ]
  },
  {
   "cell_type": "code",
   "execution_count": 1,
   "id": "35a8f431",
   "metadata": {},
   "outputs": [
    {
     "name": "stderr",
     "output_type": "stream",
     "text": [
      "libmagic is unavailable but assists in filetype detection. Please consider installing libmagic for better results.\n",
      "libmagic is unavailable but assists in filetype detection. Please consider installing libmagic for better results.\n",
      "libmagic is unavailable but assists in filetype detection. Please consider installing libmagic for better results.\n"
     ]
    }
   ],
   "source": [
    "from dotenv import load_dotenv\n",
    "import os\n",
    "load_dotenv()\n",
    "from langchain_openai import OpenAIEmbeddings\n",
    "from langchain_core.output_parsers import StrOutputParser\n",
    "from langchain_openai import ChatOpenAI\n",
    "from langchain_community.vectorstores.chroma import Chroma\n",
    "from langchain_community.document_loaders.directory import DirectoryLoader\n",
    "from langchain.text_splitter import RecursiveCharacterTextSplitter\n",
    "\n",
    "loader = DirectoryLoader(\"./data\", glob=\"**/*.txt\")\n",
    "\n",
    "docs = loader.load()\n",
    "\n",
    "text_splitter = RecursiveCharacterTextSplitter(\n",
    "    chunk_size=200,\n",
    "    chunk_overlap=20,\n",
    "    length_function=len, \n",
    "    is_separator_regex=False\n",
    ")\n",
    "\n",
    "chunks = text_splitter.split_documents(docs)\n",
    "\n",
    "embedding_function = OpenAIEmbeddings()\n",
    "model = ChatOpenAI()\n",
    "\n",
    "db = Chroma.from_documents(docs, embedding_function)\n",
    "\n",
    "retriever = db.as_retriever()"
   ]
  },
  {
   "cell_type": "markdown",
   "id": "9cbf807b",
   "metadata": {},
   "source": [
    "---\n",
    "\n",
    "## ⚙️ Pipeline Step-by-Step\n",
    "\n",
    "### 1. 📝 Prompt per la generazione delle risposte"
   ]
  },
  {
   "cell_type": "code",
   "execution_count": 7,
   "id": "57eb1967",
   "metadata": {},
   "outputs": [],
   "source": [
    "from langchain.prompts import PromptTemplate\n",
    "from langchain_core.runnables import RunnableLambda\n",
    "import re\n",
    "\n",
    "HYDE_PROMPT = PromptTemplate(\n",
    "    input_variables=[\"question\"],\n",
    "    template=\"\"\"You are an AI language model assistant. Your task is to generate five hypothetical answers to the user's query. These answers should offer diverse perspectives or interpretations, aiding in a comprehensive understanding of the query. Present the hypothetical answers as follows:\n",
    "\n",
    "    <<Answer considering a specific perspective>>\n",
    "    <<Answer from a different angle>>\n",
    "    <<Answer exploring an alternative possibility>>\n",
    "    <<Answer providing a contrasting viewpoint>>\n",
    "    <<Answer that includes a unique insight>>\n",
    "\n",
    "    Note: Present only the hypothetical answers, without numbering (or \"-\", \"1.\", \"*\") and so on, to provide a range of potential interpretations or solutions related to the query.\n",
    "    Original question: {question}\"\"\",\n",
    ")\n",
    "\n",
    "def split_and_clean_text(input_text):\n",
    "    return [item for item in re.split(r\"<<|>>\", input_text) if item.strip()]"
   ]
  },
  {
   "cell_type": "markdown",
   "id": "b45d2046",
   "metadata": {},
   "source": [
    "---\n",
    "\n",
    "### 2. 🧱 Catena LangChain per HyDE"
   ]
  },
  {
   "cell_type": "code",
   "execution_count": 8,
   "id": "3a610481",
   "metadata": {},
   "outputs": [],
   "source": [
    "hyde_chain = (\n",
    "    HYDE_PROMPT | model | StrOutputParser() | RunnableLambda(split_and_clean_text)\n",
    ")"
   ]
  },
  {
   "cell_type": "markdown",
   "id": "a38deb59",
   "metadata": {},
   "source": [
    "---\n",
    "\n",
    "### 3. 📤 Esecuzione"
   ]
  },
  {
   "cell_type": "code",
   "execution_count": 10,
   "id": "83e63a19",
   "metadata": {},
   "outputs": [],
   "source": [
    "list_of_answers = hyde_chain.invoke(\"Who is the owner of the restaurant?\")"
   ]
  },
  {
   "cell_type": "code",
   "execution_count": 11,
   "id": "2fa1c68b",
   "metadata": {},
   "outputs": [
    {
     "data": {
      "text/plain": [
       "['The owner of the restaurant may be a local entrepreneur who invested in creating a unique dining experience in the community.',\n",
       " \"Considering the size and popularity of the restaurant, it's possible that a successful restaurant chain or corporation owns it.\",\n",
       " 'In a different scenario, the restaurant could be owned by a group of investors who pooled their resources to start the business.',\n",
       " \"Contrary to common assumptions, the restaurant's ownership might be a family-run business passed down through generations, preserving tradition and authenticity.\",\n",
       " \"It's an interesting possibility that the restaurant is actually owned by a celebrity chef or a well-known public figure, adding a touch of glamour and prestige to the establishment.\"]"
      ]
     },
     "execution_count": 11,
     "metadata": {},
     "output_type": "execute_result"
    }
   ],
   "source": [
    "list_of_answers"
   ]
  },
  {
   "cell_type": "code",
   "execution_count": 12,
   "id": "ccf443f1",
   "metadata": {},
   "outputs": [],
   "source": [
    "#per togliere i duplicati\n",
    "def flatten_and_unique_documents(documents):\n",
    "    flattened_docs = [doc for sublist in documents for doc in sublist]\n",
    "\n",
    "    unique_docs = []\n",
    "    unique_contents = set()\n",
    "    for doc in flattened_docs:\n",
    "        if doc.page_content not in unique_contents:\n",
    "            unique_docs.append(doc)\n",
    "            unique_contents.add(doc.page_content)\n",
    "\n",
    "    return unique_docs"
   ]
  },
  {
   "cell_type": "code",
   "execution_count": 13,
   "id": "b1f4c2df",
   "metadata": {},
   "outputs": [
    {
     "data": {
      "text/plain": [
       "[Document(metadata={'source': 'data\\\\restaurant.txt'}, page_content=\"In the charming streets of Palermo, tucked away in a quaint alley, stood Chef Amico, a restaurant that was more than a mere eatery—it was a slice of Sicilian heaven. Founded by Amico, a chef whose name was synonymous with passion and creativity, the restaurant was a mosaic of his life’s journey through the flavors of Italy.\\n\\nChef Amico’s doors opened to a world where the aromas of garlic and olive oil were as welcoming as a warm embrace. The walls, adorned with photos of Amico’s travels and family recipes, spoke of a rich culinary heritage. The chatter and laughter of patrons filled the air, creating a symphony as delightful as the dishes served.\\n\\nOne evening, as the sun cast a golden glow over the city, a renowned food critic, Elena Rossi, stepped into Chef Amico. Her mission was to uncover the secret behind the restaurant's growing fame. She was greeted by Amico himself, whose eyes sparkled with the joy of a man who loved his work.\\n\\nElena was led to a table adorned with a simple, elegant setting. The first course was Caponata, a melody of eggplant, capers, and sweet tomatoes, which danced on her palate. Next came the Risotto al Nero di Seppia, a dish that told the tale of Sicily’s love affair with the sea. Each spoonful was a revelation, the rich flavors of squid ink harmonizing with the creamy rice.\\n\\nThe final masterpiece was Cannoli, the crown jewel of Sicilian desserts. As Elena savored the sweet ricotta filling, encased in a perfectly crisp shell, she realized that Chef Amico wasn’t just about the food. It was about the stories, the traditions, and the heart poured into every dish.\\n\\nLeaving the restaurant, Elena knew her review would sing praises not just of the food, but of the soul of Chef Amico—a place where every dish was a journey through Sicily, and every bite, a taste of Amico’s dream come true.\"),\n",
       " Document(metadata={'source': 'data\\\\founder.txt'}, page_content='In the heart of the old quarter of Palermo, amidst the bustling market stalls and the echoes of lively street life, Amico was born into a family where food was more than sustenance—it was the language of love. Raised in the warmth of his Nonna Lucia\\'s kitchen, young Amico was captivated by the symphony of flavors and aromas that danced in the air, a testament to his family’s Sicilian heritage.\\n\\nAmico\\'s life was deeply entwined with the vibrant essence of Sicilian cuisine. In the rustic kitchen where his Nonna conjured culinary magic, Amico found his calling. These formative years, filled with the rhythmic chopping of fresh herbs and the sizzling of rich tomato sauces, laid the foundation of his passion for cooking.\\n\\nThe Journey to Chef Amico\\n\\nFrom a young age, Amico was immersed in the art of Sicilian cooking. His days were punctuated by visits to the bustling markets of Palermo, where he learned to choose the freshest fish from the Mediterranean and the ripest fruits kissed by the Sicilian sun. These experiences not only sharpened his culinary skills but also deepened his respect for the land and its bounty.\\n\\nAs he grew, so did his desire to explore beyond the shores of Sicily. Venturing through Italy, Amico worked alongside renowned chefs, each teaching him a new facet of Italian cuisine. From the rolling hills of Tuscany to the romantic canals of Venice, he absorbed the diverse regional flavors, techniques, and traditions that would later influence his unique culinary style.\\n\\nCreating Chef Amico’s Restaurant\\n\\nReturning to Palermo with a vision, Amico opened the doors to \"Chef Amico,\" a restaurant that was a culmination of his travels and a tribute to his Sicilian roots. Nestled in a quaint corner of the city, the restaurant quickly gained fame for its authentic flavors and Amico’s innovative twists on traditional recipes.\\n\\nAt Chef Amico, every dish told a story. The menu, a tapestry of Sicilian classics and modern Italian cuisine, reflected Amico’s journey and his commitment to excellence. Patrons were not just diners; they were part of an extended family, welcomed with the same warmth and joy that Amico had experienced in his Nonna’s kitchen.\\n\\nPhilosophy of Hospitality\\n\\nFor Amico, hospitality was an art form. He believed that a meal was a celebration, a moment to pause and relish life’s simple pleasures. His restaurant was a haven where strangers became friends over plates of arancini and glasses of Nero d’Avola. The atmosphere he fostered was one of comfort and camaraderie, a place where every guest left with a full stomach and a happy heart.\\n\\nContinuing the Legacy\\n\\nToday, Chef Amico stands as a landmark in Palermo, a testament to Amico’s dedication and love for his craft. His spirit of generosity and passion for food extends beyond the restaurant’s walls. He mentors young chefs, shares his knowledge at culinary workshops, and supports local farmers and producers.\\n\\nAmico’s legacy is not just in the dishes he creates but in the community he nurtures. His story is a tribute to the power of food to connect us, to share our stories, and to celebrate the richness of life. Chef Amico is more than a restaurant; it\\'s a home, built on a lifetime of love, learning, and the flavors of Sicily.'),\n",
       " Document(metadata={'source': 'data\\\\food.txt'}, page_content='margherita pizza; $12; classic with tomato, mozzarella, and basil; main dish\\n\\nspaghetti carbonara; $15; creamy pasta with pancetta and parmesan; main dish\\n\\nbruschetta; $8; toasted bread with tomato, garlic, and olive oil; appetizer\\n\\ncaprese salad; $10; fresh tomatoes, mozzarella, and basil; salad\\n\\nlasagna; $14; layered pasta with meat sauce and cheese; main dish\\n\\ntiramisu; $9; coffee-flavored italian dessert; dessert\\n\\ngelato; $7; traditional italian ice cream; dessert\\n\\nrisotto milanese; $16; creamy saffron-infused rice dish; main dish\\n\\npolenta; $11; cornmeal dish, often served as a side; side dish\\n\\nosso buco; $20; braised veal shanks with vegetables and broth; main dish\\n\\nravioli; $13; stuffed pasta with cheese or meat filling; main dish\\n\\nminestrone soup; $9; vegetable soup with pasta or rice; soup\\n\\nprosecco; $8; italian sparkling white wine; drink\\n\\nchianti; $10; dry red wine from tuscany; drink\\n\\nfocaccia; $6; oven-baked italian bread; side dish\\n\\ncalamari; $12; fried squid rings with marinara sauce; appetizer\\n\\nespresso; $4; strong italian coffee; drink\\n\\ncannoli; $8; sicilian pastry with sweet ricotta filling; dessert\\n\\narancini; $10; fried rice balls stuffed with cheese or meat; appetizer\\n\\npanna cotta; $9; creamy italian dessert with caramel or fruit; dessert\\n\\nnegroni; $12; cocktail with gin, vermouth, and campari; drink\\n\\naperol spritz; $10; aperitif cocktail with aperol, prosecco, and soda; drink\\n\\ngnocchi; $14; potato-based pasta served with various sauces; main dish\\n\\npanzanella; $9; bread and tomato salad; salad\\n\\ncarpaccio; $15; thinly sliced raw beef with arugula and parmesan; appetizer\\n\\naffogato; $7; espresso poured over gelato; dessert\\n\\nbiscotti; $5; crunchy italian almond biscuits; dessert\\n\\nvitello tonnato; $18; thin slices of veal with a creamy tuna sauce; main dish\\n\\ncrostini; $7; small toasted bread with toppings; appetizer\\n\\nzabaglione; $10; light custard dessert made with egg yolks; dessert\\n\\nfrittata; $12; italian-style omelette; main dish\\n\\nsaltimbocca; $19; veal wrapped in prosciutto and sage; main dish\\n\\nlimoncello; $8; italian lemon liqueur; drink\\n\\ngrappa; $9; italian grape-based brandy; drink\\n\\nsangiovese; $11; medium-bodied red wine; drink\\n\\nribollita; $10; tuscan bread and vegetable soup; soup\\n\\ntortellini; $14; ring-shaped pasta filled with meat or cheese; main dish\\n\\npanettone; $15; traditional italian christmas bread; dessert\\n\\ninsalata mista; $8; mixed green salad with italian dressing; salad\\n\\ncacio e pepe; $13; pasta with cheese and pepper; main dish\\n\\nitalian soda; $5; carbonated water with flavored syrup; drink\\n\\namericano; $6; coffee with added hot water; drink\\n\\nfrutti di mare; $22; seafood pasta with mixed shellfish; main dish\\n\\ncaponata; $9; eggplant dish with capers, olives, and celery; side dish\\n\\namaretto sour; $10; cocktail with amaretto, lemon juice, and sugar; drink\\n\\nbranzino; $21; mediterranean sea bass, usually grilled or baked; main dish\\n\\nporchetta; $18; savory, fatty, and moist boneless pork roast; main dish\\n\\nmontepulciano wine; $12; full-bodied red wine; drink\\n\\nbresaola; $14; air-dried, salted beef served as an appetizer; appetizer\\n\\npesto pasta; $12; pasta with traditional basil pesto sauce; main dish')]"
      ]
     },
     "execution_count": 13,
     "metadata": {},
     "output_type": "execute_result"
    }
   ],
   "source": [
    "docs = [retriever.invoke(a) for a in list_of_answers]\n",
    "\n",
    "flatten_and_unique_documents(documents=docs)"
   ]
  },
  {
   "cell_type": "markdown",
   "id": "7191752f",
   "metadata": {},
   "source": [
    "## 🧪 Quando usare HyDE?\n",
    "\n",
    "### ✅ Vantaggi\n",
    "\n",
    "* Genera embedding **più ricchi e semanticamente densi**\n",
    "* Migliora il recupero per domande **ambigue** o **sottospecificate**\n",
    "* Spesso scopre documenti **più pertinenti** di quanto la query originale riesca a ottenere\n",
    "\n",
    "### ⚠️ Limitazioni\n",
    "\n",
    "* ❌ Meno efficace se la domanda è molto specifica (es. domande tecniche o a dominio ristretto)\n",
    "* ❌ LLM può \"hallucinare\" risposte troppo astratte o imprecise\n",
    "* ❌ Richiede più token = maggiore costo computazionale\n",
    "\n",
    "---\n",
    "\n",
    "## 🛠 Strumenti di valutazione\n",
    "\n",
    "Puoi valutare l'efficacia del metodo HyDE rispetto al multi-query con **RAGAS**, che fornisce metriche come:\n",
    "\n",
    "* 🔹 Answer Relevance\n",
    "* 🔹 Contextual Recall\n",
    "* 🔹 Context Precision\n",
    "* 🔹 Faithfulness\n",
    "\n",
    "---\n",
    "\n",
    "## 🚀 Conclusione\n",
    "\n",
    "HyDE è un approccio potente per migliorare il retrieval nei sistemi RAG, soprattutto quando la domanda originale non è sufficiente a recuperare documenti rilevanti. Integra bene sistemi LLM con vector store intelligenti.\n",
    "\n",
    "---\n",
    "\n",
    "## 🔮 Prossimo step\n",
    "\n",
    "La prossima sezione introdurrà una tecnica chiamata **Parent-Child Retrieval**, utile per migliorare ulteriormente il contesto dei chunk in documenti strutturati."
   ]
  }
 ],
 "metadata": {
  "kernelspec": {
   "display_name": ".venv",
   "language": "python",
   "name": "python3"
  },
  "language_info": {
   "codemirror_mode": {
    "name": "ipython",
    "version": 3
   },
   "file_extension": ".py",
   "mimetype": "text/x-python",
   "name": "python",
   "nbconvert_exporter": "python",
   "pygments_lexer": "ipython3",
   "version": "3.10.0"
  }
 },
 "nbformat": 4,
 "nbformat_minor": 5
}
