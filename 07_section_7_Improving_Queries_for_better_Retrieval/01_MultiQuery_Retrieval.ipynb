{
 "cells": [
  {
   "cell_type": "markdown",
   "id": "23470fbd",
   "metadata": {},
   "source": [
    "# 🔍 Migliorare le Query in RAG: Multi-Query Approach\n",
    "\n",
    "## 🎯 Obiettivo\n",
    "\n",
    "Migliorare la qualità del recupero da un **vector store** riscrivendo una query iniziale in più varianti semantiche, aumentando la probabilità che almeno una di esse ottenga il documento più rilevante.\n",
    "\n",
    "---\n",
    "\n",
    "## 🧠 Perché usare un approccio multi-query?\n",
    "\n",
    "> Anche se una query sembra ben formulata, può mancare la **corretta corrispondenza semantica** con i chunk nel database vettoriale.\n",
    "\n",
    "Esempio:\n",
    "\n",
    "* Query originale: **\"Chi è il proprietario del ristorante?\"**\n",
    "* Ma il documento potrebbe contenere: *\"Questo ristorante è stato fondato da Gianni Rossi.\"*\n",
    "\n",
    "Una leggera riformulazione della query può migliorare il **recall**.\n",
    "\n",
    "---\n",
    "\n",
    "## ⚙️ Pipeline Step-by-Step\n",
    "\n",
    "### 1. ✅ Preparazione"
   ]
  },
  {
   "cell_type": "code",
   "execution_count": 5,
   "id": "d88833ae",
   "metadata": {},
   "outputs": [
    {
     "name": "stderr",
     "output_type": "stream",
     "text": [
      "WARNING:unstructured:libmagic is unavailable but assists in filetype detection. Please consider installing libmagic for better results.\n",
      "WARNING:unstructured:libmagic is unavailable but assists in filetype detection. Please consider installing libmagic for better results.\n",
      "WARNING:unstructured:libmagic is unavailable but assists in filetype detection. Please consider installing libmagic for better results.\n"
     ]
    }
   ],
   "source": [
    "from dotenv import load_dotenv\n",
    "import os\n",
    "load_dotenv()\n",
    "from langchain_openai import OpenAIEmbeddings\n",
    "from langchain_core.output_parsers import StrOutputParser\n",
    "from langchain_openai import ChatOpenAI\n",
    "from langchain_community.vectorstores.chroma import Chroma\n",
    "from langchain_community.document_loaders.directory import DirectoryLoader\n",
    "from langchain.text_splitter import RecursiveCharacterTextSplitter\n",
    "\n",
    "loader = DirectoryLoader(\"./data\", glob=\"**/*.txt\")\n",
    "\n",
    "docs = loader.load()\n",
    "\n",
    "text_splitter = RecursiveCharacterTextSplitter(\n",
    "    chunk_size=200,\n",
    "    chunk_overlap=20,\n",
    "    length_function=len, \n",
    "    is_separator_regex=False\n",
    ")\n",
    "\n",
    "chunks = text_splitter.split_documents(docs)\n",
    "\n",
    "embedding_function = OpenAIEmbeddings()\n",
    "model = ChatOpenAI()\n",
    "\n",
    "db = Chroma.from_documents(docs, embedding_function)\n",
    "\n",
    "retriever = db.as_retriever()"
   ]
  },
  {
   "cell_type": "markdown",
   "id": "6b56e513",
   "metadata": {},
   "source": [
    "---\n",
    "\n",
    "### 2. ✨ Prompt di riscrittura multi-query\n",
    "\n",
    "Ora diciamo che vogliamo chiedere chi è il proprietario del ristorante.\n",
    "\n",
    "La query: \"Who owns the restaurant?\"\n",
    "\n",
    "Va bene ed otteniamo i top-k documenti, ma forse si scartano alcuni documenti che sono più adatti a rispondere a questa query. Forse documenti che sono più rilevanti per rispondere a questa query sono leggermente diversi dalla domanda e quindi si recuperano altri documenti meno rilevanti.\n",
    "\n",
    "Soluzione: \n",
    "Usiamo un LLM per generare delle varianti della query in modo da retrivare tutti i documenti rilevanti.\n",
    "\n",
    "Prompt per generare 5 varianti della stessa query:\n",
    "\n",
    "```text\n",
    "Sei un assistente AI specializzato in riformulazione di domande per il recupero semantico. \n",
    "\n",
    "Il tuo compito è generare 5 versioni diverse della seguente domanda utente, tutte semanticamente simili ma formulate in modo diverso.\n",
    "\n",
    "Rispondi solo con l'elenco delle domande, senza numerazione o spiegazioni.\n",
    "\n",
    "Domanda: {query}\n",
    "```"
   ]
  },
  {
   "cell_type": "code",
   "execution_count": 11,
   "id": "35af815c",
   "metadata": {},
   "outputs": [],
   "source": [
    "from langchain.prompts import PromptTemplate\n",
    "from langchain_core.runnables import RunnableLambda\n",
    "import re\n",
    "\n",
    "query = \"Who owns the restaurant?\"\n",
    "\n",
    "QUERY_PROMPT = PromptTemplate(\n",
    "    template=\"\"\"You are an AI language model assistant. Your task is to generate five \n",
    "    different versions of the given user question to retrieve relevant documents from a vector\n",
    "    database. By generating multiple perspectives on the user question, your goal is to help\n",
    "    the user overcome some of the limitations of the distance-based similarity search.\n",
    "    Provide these alternative question like this:\n",
    "    <<question1>>\n",
    "    <<question2>>\n",
    "    Only provide the query, no numbering.\n",
    "    Original question: {question}\n",
    "    \"\"\",\n",
    "    input_variables=['question']\n",
    ")\n",
    "\n",
    "\n",
    "def split_and_clean_text(input_text):\n",
    "    return [item for item in re.split(r\"<<|>>\", input_text) if item.strip()]"
   ]
  },
  {
   "cell_type": "markdown",
   "id": "af7a102f",
   "metadata": {},
   "source": [
    "---\n",
    "\n",
    "### 3. 🛠️ Chain di LangChain per Multi-Query"
   ]
  },
  {
   "cell_type": "code",
   "execution_count": 12,
   "id": "84e197c3",
   "metadata": {},
   "outputs": [],
   "source": [
    "model = ChatOpenAI()\n",
    "multiquery_chain = (\n",
    "    QUERY_PROMPT | model | StrOutputParser() | RunnableLambda(split_and_clean_text)\n",
    ")"
   ]
  },
  {
   "cell_type": "code",
   "execution_count": 13,
   "id": "e3c2baa1",
   "metadata": {},
   "outputs": [],
   "source": [
    "list_of_questions = multiquery_chain.invoke(query)"
   ]
  },
  {
   "cell_type": "code",
   "execution_count": 14,
   "id": "0bb73a28",
   "metadata": {},
   "outputs": [
    {
     "data": {
      "text/plain": [
       "['What individual or entity has ownership of the restaurant?',\n",
       " 'To whom does the restaurant belong?',\n",
       " 'Which person or group holds ownership of the restaurant?',\n",
       " 'Who is the proprietor of the restaurant?',\n",
       " 'Who has legal ownership of the restaurant?']"
      ]
     },
     "execution_count": 14,
     "metadata": {},
     "output_type": "execute_result"
    }
   ],
   "source": [
    "list_of_questions"
   ]
  },
  {
   "cell_type": "code",
   "execution_count": 15,
   "id": "15d65461",
   "metadata": {},
   "outputs": [],
   "source": [
    "docs = [retriever.invoke(q) for q in list_of_questions]"
   ]
  },
  {
   "cell_type": "markdown",
   "id": "8e5c5556",
   "metadata": {},
   "source": [
    "Dato che le queries sono comunque simili, in docs avremo comunque dei duplicati"
   ]
  },
  {
   "cell_type": "code",
   "execution_count": 16,
   "id": "c361718f",
   "metadata": {},
   "outputs": [
    {
     "data": {
      "text/plain": [
       "[[Document(metadata={'source': 'data\\\\restaurant.txt'}, page_content=\"In the charming streets of Palermo, tucked away in a quaint alley, stood Chef Amico, a restaurant that was more than a mere eatery—it was a slice of Sicilian heaven. Founded by Amico, a chef whose name was synonymous with passion and creativity, the restaurant was a mosaic of his life’s journey through the flavors of Italy.\\n\\nChef Amico’s doors opened to a world where the aromas of garlic and olive oil were as welcoming as a warm embrace. The walls, adorned with photos of Amico’s travels and family recipes, spoke of a rich culinary heritage. The chatter and laughter of patrons filled the air, creating a symphony as delightful as the dishes served.\\n\\nOne evening, as the sun cast a golden glow over the city, a renowned food critic, Elena Rossi, stepped into Chef Amico. Her mission was to uncover the secret behind the restaurant's growing fame. She was greeted by Amico himself, whose eyes sparkled with the joy of a man who loved his work.\\n\\nElena was led to a table adorned with a simple, elegant setting. The first course was Caponata, a melody of eggplant, capers, and sweet tomatoes, which danced on her palate. Next came the Risotto al Nero di Seppia, a dish that told the tale of Sicily’s love affair with the sea. Each spoonful was a revelation, the rich flavors of squid ink harmonizing with the creamy rice.\\n\\nThe final masterpiece was Cannoli, the crown jewel of Sicilian desserts. As Elena savored the sweet ricotta filling, encased in a perfectly crisp shell, she realized that Chef Amico wasn’t just about the food. It was about the stories, the traditions, and the heart poured into every dish.\\n\\nLeaving the restaurant, Elena knew her review would sing praises not just of the food, but of the soul of Chef Amico—a place where every dish was a journey through Sicily, and every bite, a taste of Amico’s dream come true.\"),\n",
       "  Document(metadata={'source': 'data\\\\restaurant.txt'}, page_content=\"In the charming streets of Palermo, tucked away in a quaint alley, stood Chef Amico, a restaurant that was more than a mere eatery—it was a slice of Sicilian heaven. Founded by Amico, a chef whose name was synonymous with passion and creativity, the restaurant was a mosaic of his life’s journey through the flavors of Italy.\\n\\nChef Amico’s doors opened to a world where the aromas of garlic and olive oil were as welcoming as a warm embrace. The walls, adorned with photos of Amico’s travels and family recipes, spoke of a rich culinary heritage. The chatter and laughter of patrons filled the air, creating a symphony as delightful as the dishes served.\\n\\nOne evening, as the sun cast a golden glow over the city, a renowned food critic, Elena Rossi, stepped into Chef Amico. Her mission was to uncover the secret behind the restaurant's growing fame. She was greeted by Amico himself, whose eyes sparkled with the joy of a man who loved his work.\\n\\nElena was led to a table adorned with a simple, elegant setting. The first course was Caponata, a melody of eggplant, capers, and sweet tomatoes, which danced on her palate. Next came the Risotto al Nero di Seppia, a dish that told the tale of Sicily’s love affair with the sea. Each spoonful was a revelation, the rich flavors of squid ink harmonizing with the creamy rice.\\n\\nThe final masterpiece was Cannoli, the crown jewel of Sicilian desserts. As Elena savored the sweet ricotta filling, encased in a perfectly crisp shell, she realized that Chef Amico wasn’t just about the food. It was about the stories, the traditions, and the heart poured into every dish.\\n\\nLeaving the restaurant, Elena knew her review would sing praises not just of the food, but of the soul of Chef Amico—a place where every dish was a journey through Sicily, and every bite, a taste of Amico’s dream come true.\"),\n",
       "  Document(metadata={'source': 'data\\\\founder.txt'}, page_content='In the heart of the old quarter of Palermo, amidst the bustling market stalls and the echoes of lively street life, Amico was born into a family where food was more than sustenance—it was the language of love. Raised in the warmth of his Nonna Lucia\\'s kitchen, young Amico was captivated by the symphony of flavors and aromas that danced in the air, a testament to his family’s Sicilian heritage.\\n\\nAmico\\'s life was deeply entwined with the vibrant essence of Sicilian cuisine. In the rustic kitchen where his Nonna conjured culinary magic, Amico found his calling. These formative years, filled with the rhythmic chopping of fresh herbs and the sizzling of rich tomato sauces, laid the foundation of his passion for cooking.\\n\\nThe Journey to Chef Amico\\n\\nFrom a young age, Amico was immersed in the art of Sicilian cooking. His days were punctuated by visits to the bustling markets of Palermo, where he learned to choose the freshest fish from the Mediterranean and the ripest fruits kissed by the Sicilian sun. These experiences not only sharpened his culinary skills but also deepened his respect for the land and its bounty.\\n\\nAs he grew, so did his desire to explore beyond the shores of Sicily. Venturing through Italy, Amico worked alongside renowned chefs, each teaching him a new facet of Italian cuisine. From the rolling hills of Tuscany to the romantic canals of Venice, he absorbed the diverse regional flavors, techniques, and traditions that would later influence his unique culinary style.\\n\\nCreating Chef Amico’s Restaurant\\n\\nReturning to Palermo with a vision, Amico opened the doors to \"Chef Amico,\" a restaurant that was a culmination of his travels and a tribute to his Sicilian roots. Nestled in a quaint corner of the city, the restaurant quickly gained fame for its authentic flavors and Amico’s innovative twists on traditional recipes.\\n\\nAt Chef Amico, every dish told a story. The menu, a tapestry of Sicilian classics and modern Italian cuisine, reflected Amico’s journey and his commitment to excellence. Patrons were not just diners; they were part of an extended family, welcomed with the same warmth and joy that Amico had experienced in his Nonna’s kitchen.\\n\\nPhilosophy of Hospitality\\n\\nFor Amico, hospitality was an art form. He believed that a meal was a celebration, a moment to pause and relish life’s simple pleasures. His restaurant was a haven where strangers became friends over plates of arancini and glasses of Nero d’Avola. The atmosphere he fostered was one of comfort and camaraderie, a place where every guest left with a full stomach and a happy heart.\\n\\nContinuing the Legacy\\n\\nToday, Chef Amico stands as a landmark in Palermo, a testament to Amico’s dedication and love for his craft. His spirit of generosity and passion for food extends beyond the restaurant’s walls. He mentors young chefs, shares his knowledge at culinary workshops, and supports local farmers and producers.\\n\\nAmico’s legacy is not just in the dishes he creates but in the community he nurtures. His story is a tribute to the power of food to connect us, to share our stories, and to celebrate the richness of life. Chef Amico is more than a restaurant; it\\'s a home, built on a lifetime of love, learning, and the flavors of Sicily.'),\n",
       "  Document(metadata={'source': 'data\\\\founder.txt'}, page_content='In the heart of the old quarter of Palermo, amidst the bustling market stalls and the echoes of lively street life, Amico was born into a family where food was more than sustenance—it was the language of love. Raised in the warmth of his Nonna Lucia\\'s kitchen, young Amico was captivated by the symphony of flavors and aromas that danced in the air, a testament to his family’s Sicilian heritage.\\n\\nAmico\\'s life was deeply entwined with the vibrant essence of Sicilian cuisine. In the rustic kitchen where his Nonna conjured culinary magic, Amico found his calling. These formative years, filled with the rhythmic chopping of fresh herbs and the sizzling of rich tomato sauces, laid the foundation of his passion for cooking.\\n\\nThe Journey to Chef Amico\\n\\nFrom a young age, Amico was immersed in the art of Sicilian cooking. His days were punctuated by visits to the bustling markets of Palermo, where he learned to choose the freshest fish from the Mediterranean and the ripest fruits kissed by the Sicilian sun. These experiences not only sharpened his culinary skills but also deepened his respect for the land and its bounty.\\n\\nAs he grew, so did his desire to explore beyond the shores of Sicily. Venturing through Italy, Amico worked alongside renowned chefs, each teaching him a new facet of Italian cuisine. From the rolling hills of Tuscany to the romantic canals of Venice, he absorbed the diverse regional flavors, techniques, and traditions that would later influence his unique culinary style.\\n\\nCreating Chef Amico’s Restaurant\\n\\nReturning to Palermo with a vision, Amico opened the doors to \"Chef Amico,\" a restaurant that was a culmination of his travels and a tribute to his Sicilian roots. Nestled in a quaint corner of the city, the restaurant quickly gained fame for its authentic flavors and Amico’s innovative twists on traditional recipes.\\n\\nAt Chef Amico, every dish told a story. The menu, a tapestry of Sicilian classics and modern Italian cuisine, reflected Amico’s journey and his commitment to excellence. Patrons were not just diners; they were part of an extended family, welcomed with the same warmth and joy that Amico had experienced in his Nonna’s kitchen.\\n\\nPhilosophy of Hospitality\\n\\nFor Amico, hospitality was an art form. He believed that a meal was a celebration, a moment to pause and relish life’s simple pleasures. His restaurant was a haven where strangers became friends over plates of arancini and glasses of Nero d’Avola. The atmosphere he fostered was one of comfort and camaraderie, a place where every guest left with a full stomach and a happy heart.\\n\\nContinuing the Legacy\\n\\nToday, Chef Amico stands as a landmark in Palermo, a testament to Amico’s dedication and love for his craft. His spirit of generosity and passion for food extends beyond the restaurant’s walls. He mentors young chefs, shares his knowledge at culinary workshops, and supports local farmers and producers.\\n\\nAmico’s legacy is not just in the dishes he creates but in the community he nurtures. His story is a tribute to the power of food to connect us, to share our stories, and to celebrate the richness of life. Chef Amico is more than a restaurant; it\\'s a home, built on a lifetime of love, learning, and the flavors of Sicily.')],\n",
       " [Document(metadata={'source': 'data\\\\restaurant.txt'}, page_content=\"In the charming streets of Palermo, tucked away in a quaint alley, stood Chef Amico, a restaurant that was more than a mere eatery—it was a slice of Sicilian heaven. Founded by Amico, a chef whose name was synonymous with passion and creativity, the restaurant was a mosaic of his life’s journey through the flavors of Italy.\\n\\nChef Amico’s doors opened to a world where the aromas of garlic and olive oil were as welcoming as a warm embrace. The walls, adorned with photos of Amico’s travels and family recipes, spoke of a rich culinary heritage. The chatter and laughter of patrons filled the air, creating a symphony as delightful as the dishes served.\\n\\nOne evening, as the sun cast a golden glow over the city, a renowned food critic, Elena Rossi, stepped into Chef Amico. Her mission was to uncover the secret behind the restaurant's growing fame. She was greeted by Amico himself, whose eyes sparkled with the joy of a man who loved his work.\\n\\nElena was led to a table adorned with a simple, elegant setting. The first course was Caponata, a melody of eggplant, capers, and sweet tomatoes, which danced on her palate. Next came the Risotto al Nero di Seppia, a dish that told the tale of Sicily’s love affair with the sea. Each spoonful was a revelation, the rich flavors of squid ink harmonizing with the creamy rice.\\n\\nThe final masterpiece was Cannoli, the crown jewel of Sicilian desserts. As Elena savored the sweet ricotta filling, encased in a perfectly crisp shell, she realized that Chef Amico wasn’t just about the food. It was about the stories, the traditions, and the heart poured into every dish.\\n\\nLeaving the restaurant, Elena knew her review would sing praises not just of the food, but of the soul of Chef Amico—a place where every dish was a journey through Sicily, and every bite, a taste of Amico’s dream come true.\"),\n",
       "  Document(metadata={'source': 'data\\\\restaurant.txt'}, page_content=\"In the charming streets of Palermo, tucked away in a quaint alley, stood Chef Amico, a restaurant that was more than a mere eatery—it was a slice of Sicilian heaven. Founded by Amico, a chef whose name was synonymous with passion and creativity, the restaurant was a mosaic of his life’s journey through the flavors of Italy.\\n\\nChef Amico’s doors opened to a world where the aromas of garlic and olive oil were as welcoming as a warm embrace. The walls, adorned with photos of Amico’s travels and family recipes, spoke of a rich culinary heritage. The chatter and laughter of patrons filled the air, creating a symphony as delightful as the dishes served.\\n\\nOne evening, as the sun cast a golden glow over the city, a renowned food critic, Elena Rossi, stepped into Chef Amico. Her mission was to uncover the secret behind the restaurant's growing fame. She was greeted by Amico himself, whose eyes sparkled with the joy of a man who loved his work.\\n\\nElena was led to a table adorned with a simple, elegant setting. The first course was Caponata, a melody of eggplant, capers, and sweet tomatoes, which danced on her palate. Next came the Risotto al Nero di Seppia, a dish that told the tale of Sicily’s love affair with the sea. Each spoonful was a revelation, the rich flavors of squid ink harmonizing with the creamy rice.\\n\\nThe final masterpiece was Cannoli, the crown jewel of Sicilian desserts. As Elena savored the sweet ricotta filling, encased in a perfectly crisp shell, she realized that Chef Amico wasn’t just about the food. It was about the stories, the traditions, and the heart poured into every dish.\\n\\nLeaving the restaurant, Elena knew her review would sing praises not just of the food, but of the soul of Chef Amico—a place where every dish was a journey through Sicily, and every bite, a taste of Amico’s dream come true.\"),\n",
       "  Document(metadata={'source': 'data\\\\founder.txt'}, page_content='In the heart of the old quarter of Palermo, amidst the bustling market stalls and the echoes of lively street life, Amico was born into a family where food was more than sustenance—it was the language of love. Raised in the warmth of his Nonna Lucia\\'s kitchen, young Amico was captivated by the symphony of flavors and aromas that danced in the air, a testament to his family’s Sicilian heritage.\\n\\nAmico\\'s life was deeply entwined with the vibrant essence of Sicilian cuisine. In the rustic kitchen where his Nonna conjured culinary magic, Amico found his calling. These formative years, filled with the rhythmic chopping of fresh herbs and the sizzling of rich tomato sauces, laid the foundation of his passion for cooking.\\n\\nThe Journey to Chef Amico\\n\\nFrom a young age, Amico was immersed in the art of Sicilian cooking. His days were punctuated by visits to the bustling markets of Palermo, where he learned to choose the freshest fish from the Mediterranean and the ripest fruits kissed by the Sicilian sun. These experiences not only sharpened his culinary skills but also deepened his respect for the land and its bounty.\\n\\nAs he grew, so did his desire to explore beyond the shores of Sicily. Venturing through Italy, Amico worked alongside renowned chefs, each teaching him a new facet of Italian cuisine. From the rolling hills of Tuscany to the romantic canals of Venice, he absorbed the diverse regional flavors, techniques, and traditions that would later influence his unique culinary style.\\n\\nCreating Chef Amico’s Restaurant\\n\\nReturning to Palermo with a vision, Amico opened the doors to \"Chef Amico,\" a restaurant that was a culmination of his travels and a tribute to his Sicilian roots. Nestled in a quaint corner of the city, the restaurant quickly gained fame for its authentic flavors and Amico’s innovative twists on traditional recipes.\\n\\nAt Chef Amico, every dish told a story. The menu, a tapestry of Sicilian classics and modern Italian cuisine, reflected Amico’s journey and his commitment to excellence. Patrons were not just diners; they were part of an extended family, welcomed with the same warmth and joy that Amico had experienced in his Nonna’s kitchen.\\n\\nPhilosophy of Hospitality\\n\\nFor Amico, hospitality was an art form. He believed that a meal was a celebration, a moment to pause and relish life’s simple pleasures. His restaurant was a haven where strangers became friends over plates of arancini and glasses of Nero d’Avola. The atmosphere he fostered was one of comfort and camaraderie, a place where every guest left with a full stomach and a happy heart.\\n\\nContinuing the Legacy\\n\\nToday, Chef Amico stands as a landmark in Palermo, a testament to Amico’s dedication and love for his craft. His spirit of generosity and passion for food extends beyond the restaurant’s walls. He mentors young chefs, shares his knowledge at culinary workshops, and supports local farmers and producers.\\n\\nAmico’s legacy is not just in the dishes he creates but in the community he nurtures. His story is a tribute to the power of food to connect us, to share our stories, and to celebrate the richness of life. Chef Amico is more than a restaurant; it\\'s a home, built on a lifetime of love, learning, and the flavors of Sicily.'),\n",
       "  Document(metadata={'source': 'data\\\\founder.txt'}, page_content='In the heart of the old quarter of Palermo, amidst the bustling market stalls and the echoes of lively street life, Amico was born into a family where food was more than sustenance—it was the language of love. Raised in the warmth of his Nonna Lucia\\'s kitchen, young Amico was captivated by the symphony of flavors and aromas that danced in the air, a testament to his family’s Sicilian heritage.\\n\\nAmico\\'s life was deeply entwined with the vibrant essence of Sicilian cuisine. In the rustic kitchen where his Nonna conjured culinary magic, Amico found his calling. These formative years, filled with the rhythmic chopping of fresh herbs and the sizzling of rich tomato sauces, laid the foundation of his passion for cooking.\\n\\nThe Journey to Chef Amico\\n\\nFrom a young age, Amico was immersed in the art of Sicilian cooking. His days were punctuated by visits to the bustling markets of Palermo, where he learned to choose the freshest fish from the Mediterranean and the ripest fruits kissed by the Sicilian sun. These experiences not only sharpened his culinary skills but also deepened his respect for the land and its bounty.\\n\\nAs he grew, so did his desire to explore beyond the shores of Sicily. Venturing through Italy, Amico worked alongside renowned chefs, each teaching him a new facet of Italian cuisine. From the rolling hills of Tuscany to the romantic canals of Venice, he absorbed the diverse regional flavors, techniques, and traditions that would later influence his unique culinary style.\\n\\nCreating Chef Amico’s Restaurant\\n\\nReturning to Palermo with a vision, Amico opened the doors to \"Chef Amico,\" a restaurant that was a culmination of his travels and a tribute to his Sicilian roots. Nestled in a quaint corner of the city, the restaurant quickly gained fame for its authentic flavors and Amico’s innovative twists on traditional recipes.\\n\\nAt Chef Amico, every dish told a story. The menu, a tapestry of Sicilian classics and modern Italian cuisine, reflected Amico’s journey and his commitment to excellence. Patrons were not just diners; they were part of an extended family, welcomed with the same warmth and joy that Amico had experienced in his Nonna’s kitchen.\\n\\nPhilosophy of Hospitality\\n\\nFor Amico, hospitality was an art form. He believed that a meal was a celebration, a moment to pause and relish life’s simple pleasures. His restaurant was a haven where strangers became friends over plates of arancini and glasses of Nero d’Avola. The atmosphere he fostered was one of comfort and camaraderie, a place where every guest left with a full stomach and a happy heart.\\n\\nContinuing the Legacy\\n\\nToday, Chef Amico stands as a landmark in Palermo, a testament to Amico’s dedication and love for his craft. His spirit of generosity and passion for food extends beyond the restaurant’s walls. He mentors young chefs, shares his knowledge at culinary workshops, and supports local farmers and producers.\\n\\nAmico’s legacy is not just in the dishes he creates but in the community he nurtures. His story is a tribute to the power of food to connect us, to share our stories, and to celebrate the richness of life. Chef Amico is more than a restaurant; it\\'s a home, built on a lifetime of love, learning, and the flavors of Sicily.')],\n",
       " [Document(metadata={'source': 'data\\\\restaurant.txt'}, page_content=\"In the charming streets of Palermo, tucked away in a quaint alley, stood Chef Amico, a restaurant that was more than a mere eatery—it was a slice of Sicilian heaven. Founded by Amico, a chef whose name was synonymous with passion and creativity, the restaurant was a mosaic of his life’s journey through the flavors of Italy.\\n\\nChef Amico’s doors opened to a world where the aromas of garlic and olive oil were as welcoming as a warm embrace. The walls, adorned with photos of Amico’s travels and family recipes, spoke of a rich culinary heritage. The chatter and laughter of patrons filled the air, creating a symphony as delightful as the dishes served.\\n\\nOne evening, as the sun cast a golden glow over the city, a renowned food critic, Elena Rossi, stepped into Chef Amico. Her mission was to uncover the secret behind the restaurant's growing fame. She was greeted by Amico himself, whose eyes sparkled with the joy of a man who loved his work.\\n\\nElena was led to a table adorned with a simple, elegant setting. The first course was Caponata, a melody of eggplant, capers, and sweet tomatoes, which danced on her palate. Next came the Risotto al Nero di Seppia, a dish that told the tale of Sicily’s love affair with the sea. Each spoonful was a revelation, the rich flavors of squid ink harmonizing with the creamy rice.\\n\\nThe final masterpiece was Cannoli, the crown jewel of Sicilian desserts. As Elena savored the sweet ricotta filling, encased in a perfectly crisp shell, she realized that Chef Amico wasn’t just about the food. It was about the stories, the traditions, and the heart poured into every dish.\\n\\nLeaving the restaurant, Elena knew her review would sing praises not just of the food, but of the soul of Chef Amico—a place where every dish was a journey through Sicily, and every bite, a taste of Amico’s dream come true.\"),\n",
       "  Document(metadata={'source': 'data\\\\restaurant.txt'}, page_content=\"In the charming streets of Palermo, tucked away in a quaint alley, stood Chef Amico, a restaurant that was more than a mere eatery—it was a slice of Sicilian heaven. Founded by Amico, a chef whose name was synonymous with passion and creativity, the restaurant was a mosaic of his life’s journey through the flavors of Italy.\\n\\nChef Amico’s doors opened to a world where the aromas of garlic and olive oil were as welcoming as a warm embrace. The walls, adorned with photos of Amico’s travels and family recipes, spoke of a rich culinary heritage. The chatter and laughter of patrons filled the air, creating a symphony as delightful as the dishes served.\\n\\nOne evening, as the sun cast a golden glow over the city, a renowned food critic, Elena Rossi, stepped into Chef Amico. Her mission was to uncover the secret behind the restaurant's growing fame. She was greeted by Amico himself, whose eyes sparkled with the joy of a man who loved his work.\\n\\nElena was led to a table adorned with a simple, elegant setting. The first course was Caponata, a melody of eggplant, capers, and sweet tomatoes, which danced on her palate. Next came the Risotto al Nero di Seppia, a dish that told the tale of Sicily’s love affair with the sea. Each spoonful was a revelation, the rich flavors of squid ink harmonizing with the creamy rice.\\n\\nThe final masterpiece was Cannoli, the crown jewel of Sicilian desserts. As Elena savored the sweet ricotta filling, encased in a perfectly crisp shell, she realized that Chef Amico wasn’t just about the food. It was about the stories, the traditions, and the heart poured into every dish.\\n\\nLeaving the restaurant, Elena knew her review would sing praises not just of the food, but of the soul of Chef Amico—a place where every dish was a journey through Sicily, and every bite, a taste of Amico’s dream come true.\"),\n",
       "  Document(metadata={'source': 'data\\\\founder.txt'}, page_content='In the heart of the old quarter of Palermo, amidst the bustling market stalls and the echoes of lively street life, Amico was born into a family where food was more than sustenance—it was the language of love. Raised in the warmth of his Nonna Lucia\\'s kitchen, young Amico was captivated by the symphony of flavors and aromas that danced in the air, a testament to his family’s Sicilian heritage.\\n\\nAmico\\'s life was deeply entwined with the vibrant essence of Sicilian cuisine. In the rustic kitchen where his Nonna conjured culinary magic, Amico found his calling. These formative years, filled with the rhythmic chopping of fresh herbs and the sizzling of rich tomato sauces, laid the foundation of his passion for cooking.\\n\\nThe Journey to Chef Amico\\n\\nFrom a young age, Amico was immersed in the art of Sicilian cooking. His days were punctuated by visits to the bustling markets of Palermo, where he learned to choose the freshest fish from the Mediterranean and the ripest fruits kissed by the Sicilian sun. These experiences not only sharpened his culinary skills but also deepened his respect for the land and its bounty.\\n\\nAs he grew, so did his desire to explore beyond the shores of Sicily. Venturing through Italy, Amico worked alongside renowned chefs, each teaching him a new facet of Italian cuisine. From the rolling hills of Tuscany to the romantic canals of Venice, he absorbed the diverse regional flavors, techniques, and traditions that would later influence his unique culinary style.\\n\\nCreating Chef Amico’s Restaurant\\n\\nReturning to Palermo with a vision, Amico opened the doors to \"Chef Amico,\" a restaurant that was a culmination of his travels and a tribute to his Sicilian roots. Nestled in a quaint corner of the city, the restaurant quickly gained fame for its authentic flavors and Amico’s innovative twists on traditional recipes.\\n\\nAt Chef Amico, every dish told a story. The menu, a tapestry of Sicilian classics and modern Italian cuisine, reflected Amico’s journey and his commitment to excellence. Patrons were not just diners; they were part of an extended family, welcomed with the same warmth and joy that Amico had experienced in his Nonna’s kitchen.\\n\\nPhilosophy of Hospitality\\n\\nFor Amico, hospitality was an art form. He believed that a meal was a celebration, a moment to pause and relish life’s simple pleasures. His restaurant was a haven where strangers became friends over plates of arancini and glasses of Nero d’Avola. The atmosphere he fostered was one of comfort and camaraderie, a place where every guest left with a full stomach and a happy heart.\\n\\nContinuing the Legacy\\n\\nToday, Chef Amico stands as a landmark in Palermo, a testament to Amico’s dedication and love for his craft. His spirit of generosity and passion for food extends beyond the restaurant’s walls. He mentors young chefs, shares his knowledge at culinary workshops, and supports local farmers and producers.\\n\\nAmico’s legacy is not just in the dishes he creates but in the community he nurtures. His story is a tribute to the power of food to connect us, to share our stories, and to celebrate the richness of life. Chef Amico is more than a restaurant; it\\'s a home, built on a lifetime of love, learning, and the flavors of Sicily.'),\n",
       "  Document(metadata={'source': 'data\\\\founder.txt'}, page_content='In the heart of the old quarter of Palermo, amidst the bustling market stalls and the echoes of lively street life, Amico was born into a family where food was more than sustenance—it was the language of love. Raised in the warmth of his Nonna Lucia\\'s kitchen, young Amico was captivated by the symphony of flavors and aromas that danced in the air, a testament to his family’s Sicilian heritage.\\n\\nAmico\\'s life was deeply entwined with the vibrant essence of Sicilian cuisine. In the rustic kitchen where his Nonna conjured culinary magic, Amico found his calling. These formative years, filled with the rhythmic chopping of fresh herbs and the sizzling of rich tomato sauces, laid the foundation of his passion for cooking.\\n\\nThe Journey to Chef Amico\\n\\nFrom a young age, Amico was immersed in the art of Sicilian cooking. His days were punctuated by visits to the bustling markets of Palermo, where he learned to choose the freshest fish from the Mediterranean and the ripest fruits kissed by the Sicilian sun. These experiences not only sharpened his culinary skills but also deepened his respect for the land and its bounty.\\n\\nAs he grew, so did his desire to explore beyond the shores of Sicily. Venturing through Italy, Amico worked alongside renowned chefs, each teaching him a new facet of Italian cuisine. From the rolling hills of Tuscany to the romantic canals of Venice, he absorbed the diverse regional flavors, techniques, and traditions that would later influence his unique culinary style.\\n\\nCreating Chef Amico’s Restaurant\\n\\nReturning to Palermo with a vision, Amico opened the doors to \"Chef Amico,\" a restaurant that was a culmination of his travels and a tribute to his Sicilian roots. Nestled in a quaint corner of the city, the restaurant quickly gained fame for its authentic flavors and Amico’s innovative twists on traditional recipes.\\n\\nAt Chef Amico, every dish told a story. The menu, a tapestry of Sicilian classics and modern Italian cuisine, reflected Amico’s journey and his commitment to excellence. Patrons were not just diners; they were part of an extended family, welcomed with the same warmth and joy that Amico had experienced in his Nonna’s kitchen.\\n\\nPhilosophy of Hospitality\\n\\nFor Amico, hospitality was an art form. He believed that a meal was a celebration, a moment to pause and relish life’s simple pleasures. His restaurant was a haven where strangers became friends over plates of arancini and glasses of Nero d’Avola. The atmosphere he fostered was one of comfort and camaraderie, a place where every guest left with a full stomach and a happy heart.\\n\\nContinuing the Legacy\\n\\nToday, Chef Amico stands as a landmark in Palermo, a testament to Amico’s dedication and love for his craft. His spirit of generosity and passion for food extends beyond the restaurant’s walls. He mentors young chefs, shares his knowledge at culinary workshops, and supports local farmers and producers.\\n\\nAmico’s legacy is not just in the dishes he creates but in the community he nurtures. His story is a tribute to the power of food to connect us, to share our stories, and to celebrate the richness of life. Chef Amico is more than a restaurant; it\\'s a home, built on a lifetime of love, learning, and the flavors of Sicily.')],\n",
       " [Document(metadata={'source': 'data\\\\restaurant.txt'}, page_content=\"In the charming streets of Palermo, tucked away in a quaint alley, stood Chef Amico, a restaurant that was more than a mere eatery—it was a slice of Sicilian heaven. Founded by Amico, a chef whose name was synonymous with passion and creativity, the restaurant was a mosaic of his life’s journey through the flavors of Italy.\\n\\nChef Amico’s doors opened to a world where the aromas of garlic and olive oil were as welcoming as a warm embrace. The walls, adorned with photos of Amico’s travels and family recipes, spoke of a rich culinary heritage. The chatter and laughter of patrons filled the air, creating a symphony as delightful as the dishes served.\\n\\nOne evening, as the sun cast a golden glow over the city, a renowned food critic, Elena Rossi, stepped into Chef Amico. Her mission was to uncover the secret behind the restaurant's growing fame. She was greeted by Amico himself, whose eyes sparkled with the joy of a man who loved his work.\\n\\nElena was led to a table adorned with a simple, elegant setting. The first course was Caponata, a melody of eggplant, capers, and sweet tomatoes, which danced on her palate. Next came the Risotto al Nero di Seppia, a dish that told the tale of Sicily’s love affair with the sea. Each spoonful was a revelation, the rich flavors of squid ink harmonizing with the creamy rice.\\n\\nThe final masterpiece was Cannoli, the crown jewel of Sicilian desserts. As Elena savored the sweet ricotta filling, encased in a perfectly crisp shell, she realized that Chef Amico wasn’t just about the food. It was about the stories, the traditions, and the heart poured into every dish.\\n\\nLeaving the restaurant, Elena knew her review would sing praises not just of the food, but of the soul of Chef Amico—a place where every dish was a journey through Sicily, and every bite, a taste of Amico’s dream come true.\"),\n",
       "  Document(metadata={'source': 'data\\\\restaurant.txt'}, page_content=\"In the charming streets of Palermo, tucked away in a quaint alley, stood Chef Amico, a restaurant that was more than a mere eatery—it was a slice of Sicilian heaven. Founded by Amico, a chef whose name was synonymous with passion and creativity, the restaurant was a mosaic of his life’s journey through the flavors of Italy.\\n\\nChef Amico’s doors opened to a world where the aromas of garlic and olive oil were as welcoming as a warm embrace. The walls, adorned with photos of Amico’s travels and family recipes, spoke of a rich culinary heritage. The chatter and laughter of patrons filled the air, creating a symphony as delightful as the dishes served.\\n\\nOne evening, as the sun cast a golden glow over the city, a renowned food critic, Elena Rossi, stepped into Chef Amico. Her mission was to uncover the secret behind the restaurant's growing fame. She was greeted by Amico himself, whose eyes sparkled with the joy of a man who loved his work.\\n\\nElena was led to a table adorned with a simple, elegant setting. The first course was Caponata, a melody of eggplant, capers, and sweet tomatoes, which danced on her palate. Next came the Risotto al Nero di Seppia, a dish that told the tale of Sicily’s love affair with the sea. Each spoonful was a revelation, the rich flavors of squid ink harmonizing with the creamy rice.\\n\\nThe final masterpiece was Cannoli, the crown jewel of Sicilian desserts. As Elena savored the sweet ricotta filling, encased in a perfectly crisp shell, she realized that Chef Amico wasn’t just about the food. It was about the stories, the traditions, and the heart poured into every dish.\\n\\nLeaving the restaurant, Elena knew her review would sing praises not just of the food, but of the soul of Chef Amico—a place where every dish was a journey through Sicily, and every bite, a taste of Amico’s dream come true.\"),\n",
       "  Document(metadata={'source': 'data\\\\founder.txt'}, page_content='In the heart of the old quarter of Palermo, amidst the bustling market stalls and the echoes of lively street life, Amico was born into a family where food was more than sustenance—it was the language of love. Raised in the warmth of his Nonna Lucia\\'s kitchen, young Amico was captivated by the symphony of flavors and aromas that danced in the air, a testament to his family’s Sicilian heritage.\\n\\nAmico\\'s life was deeply entwined with the vibrant essence of Sicilian cuisine. In the rustic kitchen where his Nonna conjured culinary magic, Amico found his calling. These formative years, filled with the rhythmic chopping of fresh herbs and the sizzling of rich tomato sauces, laid the foundation of his passion for cooking.\\n\\nThe Journey to Chef Amico\\n\\nFrom a young age, Amico was immersed in the art of Sicilian cooking. His days were punctuated by visits to the bustling markets of Palermo, where he learned to choose the freshest fish from the Mediterranean and the ripest fruits kissed by the Sicilian sun. These experiences not only sharpened his culinary skills but also deepened his respect for the land and its bounty.\\n\\nAs he grew, so did his desire to explore beyond the shores of Sicily. Venturing through Italy, Amico worked alongside renowned chefs, each teaching him a new facet of Italian cuisine. From the rolling hills of Tuscany to the romantic canals of Venice, he absorbed the diverse regional flavors, techniques, and traditions that would later influence his unique culinary style.\\n\\nCreating Chef Amico’s Restaurant\\n\\nReturning to Palermo with a vision, Amico opened the doors to \"Chef Amico,\" a restaurant that was a culmination of his travels and a tribute to his Sicilian roots. Nestled in a quaint corner of the city, the restaurant quickly gained fame for its authentic flavors and Amico’s innovative twists on traditional recipes.\\n\\nAt Chef Amico, every dish told a story. The menu, a tapestry of Sicilian classics and modern Italian cuisine, reflected Amico’s journey and his commitment to excellence. Patrons were not just diners; they were part of an extended family, welcomed with the same warmth and joy that Amico had experienced in his Nonna’s kitchen.\\n\\nPhilosophy of Hospitality\\n\\nFor Amico, hospitality was an art form. He believed that a meal was a celebration, a moment to pause and relish life’s simple pleasures. His restaurant was a haven where strangers became friends over plates of arancini and glasses of Nero d’Avola. The atmosphere he fostered was one of comfort and camaraderie, a place where every guest left with a full stomach and a happy heart.\\n\\nContinuing the Legacy\\n\\nToday, Chef Amico stands as a landmark in Palermo, a testament to Amico’s dedication and love for his craft. His spirit of generosity and passion for food extends beyond the restaurant’s walls. He mentors young chefs, shares his knowledge at culinary workshops, and supports local farmers and producers.\\n\\nAmico’s legacy is not just in the dishes he creates but in the community he nurtures. His story is a tribute to the power of food to connect us, to share our stories, and to celebrate the richness of life. Chef Amico is more than a restaurant; it\\'s a home, built on a lifetime of love, learning, and the flavors of Sicily.'),\n",
       "  Document(metadata={'source': 'data\\\\founder.txt'}, page_content='In the heart of the old quarter of Palermo, amidst the bustling market stalls and the echoes of lively street life, Amico was born into a family where food was more than sustenance—it was the language of love. Raised in the warmth of his Nonna Lucia\\'s kitchen, young Amico was captivated by the symphony of flavors and aromas that danced in the air, a testament to his family’s Sicilian heritage.\\n\\nAmico\\'s life was deeply entwined with the vibrant essence of Sicilian cuisine. In the rustic kitchen where his Nonna conjured culinary magic, Amico found his calling. These formative years, filled with the rhythmic chopping of fresh herbs and the sizzling of rich tomato sauces, laid the foundation of his passion for cooking.\\n\\nThe Journey to Chef Amico\\n\\nFrom a young age, Amico was immersed in the art of Sicilian cooking. His days were punctuated by visits to the bustling markets of Palermo, where he learned to choose the freshest fish from the Mediterranean and the ripest fruits kissed by the Sicilian sun. These experiences not only sharpened his culinary skills but also deepened his respect for the land and its bounty.\\n\\nAs he grew, so did his desire to explore beyond the shores of Sicily. Venturing through Italy, Amico worked alongside renowned chefs, each teaching him a new facet of Italian cuisine. From the rolling hills of Tuscany to the romantic canals of Venice, he absorbed the diverse regional flavors, techniques, and traditions that would later influence his unique culinary style.\\n\\nCreating Chef Amico’s Restaurant\\n\\nReturning to Palermo with a vision, Amico opened the doors to \"Chef Amico,\" a restaurant that was a culmination of his travels and a tribute to his Sicilian roots. Nestled in a quaint corner of the city, the restaurant quickly gained fame for its authentic flavors and Amico’s innovative twists on traditional recipes.\\n\\nAt Chef Amico, every dish told a story. The menu, a tapestry of Sicilian classics and modern Italian cuisine, reflected Amico’s journey and his commitment to excellence. Patrons were not just diners; they were part of an extended family, welcomed with the same warmth and joy that Amico had experienced in his Nonna’s kitchen.\\n\\nPhilosophy of Hospitality\\n\\nFor Amico, hospitality was an art form. He believed that a meal was a celebration, a moment to pause and relish life’s simple pleasures. His restaurant was a haven where strangers became friends over plates of arancini and glasses of Nero d’Avola. The atmosphere he fostered was one of comfort and camaraderie, a place where every guest left with a full stomach and a happy heart.\\n\\nContinuing the Legacy\\n\\nToday, Chef Amico stands as a landmark in Palermo, a testament to Amico’s dedication and love for his craft. His spirit of generosity and passion for food extends beyond the restaurant’s walls. He mentors young chefs, shares his knowledge at culinary workshops, and supports local farmers and producers.\\n\\nAmico’s legacy is not just in the dishes he creates but in the community he nurtures. His story is a tribute to the power of food to connect us, to share our stories, and to celebrate the richness of life. Chef Amico is more than a restaurant; it\\'s a home, built on a lifetime of love, learning, and the flavors of Sicily.')],\n",
       " [Document(metadata={'source': 'data\\\\restaurant.txt'}, page_content=\"In the charming streets of Palermo, tucked away in a quaint alley, stood Chef Amico, a restaurant that was more than a mere eatery—it was a slice of Sicilian heaven. Founded by Amico, a chef whose name was synonymous with passion and creativity, the restaurant was a mosaic of his life’s journey through the flavors of Italy.\\n\\nChef Amico’s doors opened to a world where the aromas of garlic and olive oil were as welcoming as a warm embrace. The walls, adorned with photos of Amico’s travels and family recipes, spoke of a rich culinary heritage. The chatter and laughter of patrons filled the air, creating a symphony as delightful as the dishes served.\\n\\nOne evening, as the sun cast a golden glow over the city, a renowned food critic, Elena Rossi, stepped into Chef Amico. Her mission was to uncover the secret behind the restaurant's growing fame. She was greeted by Amico himself, whose eyes sparkled with the joy of a man who loved his work.\\n\\nElena was led to a table adorned with a simple, elegant setting. The first course was Caponata, a melody of eggplant, capers, and sweet tomatoes, which danced on her palate. Next came the Risotto al Nero di Seppia, a dish that told the tale of Sicily’s love affair with the sea. Each spoonful was a revelation, the rich flavors of squid ink harmonizing with the creamy rice.\\n\\nThe final masterpiece was Cannoli, the crown jewel of Sicilian desserts. As Elena savored the sweet ricotta filling, encased in a perfectly crisp shell, she realized that Chef Amico wasn’t just about the food. It was about the stories, the traditions, and the heart poured into every dish.\\n\\nLeaving the restaurant, Elena knew her review would sing praises not just of the food, but of the soul of Chef Amico—a place where every dish was a journey through Sicily, and every bite, a taste of Amico’s dream come true.\"),\n",
       "  Document(metadata={'source': 'data\\\\restaurant.txt'}, page_content=\"In the charming streets of Palermo, tucked away in a quaint alley, stood Chef Amico, a restaurant that was more than a mere eatery—it was a slice of Sicilian heaven. Founded by Amico, a chef whose name was synonymous with passion and creativity, the restaurant was a mosaic of his life’s journey through the flavors of Italy.\\n\\nChef Amico’s doors opened to a world where the aromas of garlic and olive oil were as welcoming as a warm embrace. The walls, adorned with photos of Amico’s travels and family recipes, spoke of a rich culinary heritage. The chatter and laughter of patrons filled the air, creating a symphony as delightful as the dishes served.\\n\\nOne evening, as the sun cast a golden glow over the city, a renowned food critic, Elena Rossi, stepped into Chef Amico. Her mission was to uncover the secret behind the restaurant's growing fame. She was greeted by Amico himself, whose eyes sparkled with the joy of a man who loved his work.\\n\\nElena was led to a table adorned with a simple, elegant setting. The first course was Caponata, a melody of eggplant, capers, and sweet tomatoes, which danced on her palate. Next came the Risotto al Nero di Seppia, a dish that told the tale of Sicily’s love affair with the sea. Each spoonful was a revelation, the rich flavors of squid ink harmonizing with the creamy rice.\\n\\nThe final masterpiece was Cannoli, the crown jewel of Sicilian desserts. As Elena savored the sweet ricotta filling, encased in a perfectly crisp shell, she realized that Chef Amico wasn’t just about the food. It was about the stories, the traditions, and the heart poured into every dish.\\n\\nLeaving the restaurant, Elena knew her review would sing praises not just of the food, but of the soul of Chef Amico—a place where every dish was a journey through Sicily, and every bite, a taste of Amico’s dream come true.\"),\n",
       "  Document(metadata={'source': 'data\\\\founder.txt'}, page_content='In the heart of the old quarter of Palermo, amidst the bustling market stalls and the echoes of lively street life, Amico was born into a family where food was more than sustenance—it was the language of love. Raised in the warmth of his Nonna Lucia\\'s kitchen, young Amico was captivated by the symphony of flavors and aromas that danced in the air, a testament to his family’s Sicilian heritage.\\n\\nAmico\\'s life was deeply entwined with the vibrant essence of Sicilian cuisine. In the rustic kitchen where his Nonna conjured culinary magic, Amico found his calling. These formative years, filled with the rhythmic chopping of fresh herbs and the sizzling of rich tomato sauces, laid the foundation of his passion for cooking.\\n\\nThe Journey to Chef Amico\\n\\nFrom a young age, Amico was immersed in the art of Sicilian cooking. His days were punctuated by visits to the bustling markets of Palermo, where he learned to choose the freshest fish from the Mediterranean and the ripest fruits kissed by the Sicilian sun. These experiences not only sharpened his culinary skills but also deepened his respect for the land and its bounty.\\n\\nAs he grew, so did his desire to explore beyond the shores of Sicily. Venturing through Italy, Amico worked alongside renowned chefs, each teaching him a new facet of Italian cuisine. From the rolling hills of Tuscany to the romantic canals of Venice, he absorbed the diverse regional flavors, techniques, and traditions that would later influence his unique culinary style.\\n\\nCreating Chef Amico’s Restaurant\\n\\nReturning to Palermo with a vision, Amico opened the doors to \"Chef Amico,\" a restaurant that was a culmination of his travels and a tribute to his Sicilian roots. Nestled in a quaint corner of the city, the restaurant quickly gained fame for its authentic flavors and Amico’s innovative twists on traditional recipes.\\n\\nAt Chef Amico, every dish told a story. The menu, a tapestry of Sicilian classics and modern Italian cuisine, reflected Amico’s journey and his commitment to excellence. Patrons were not just diners; they were part of an extended family, welcomed with the same warmth and joy that Amico had experienced in his Nonna’s kitchen.\\n\\nPhilosophy of Hospitality\\n\\nFor Amico, hospitality was an art form. He believed that a meal was a celebration, a moment to pause and relish life’s simple pleasures. His restaurant was a haven where strangers became friends over plates of arancini and glasses of Nero d’Avola. The atmosphere he fostered was one of comfort and camaraderie, a place where every guest left with a full stomach and a happy heart.\\n\\nContinuing the Legacy\\n\\nToday, Chef Amico stands as a landmark in Palermo, a testament to Amico’s dedication and love for his craft. His spirit of generosity and passion for food extends beyond the restaurant’s walls. He mentors young chefs, shares his knowledge at culinary workshops, and supports local farmers and producers.\\n\\nAmico’s legacy is not just in the dishes he creates but in the community he nurtures. His story is a tribute to the power of food to connect us, to share our stories, and to celebrate the richness of life. Chef Amico is more than a restaurant; it\\'s a home, built on a lifetime of love, learning, and the flavors of Sicily.'),\n",
       "  Document(metadata={'source': 'data\\\\founder.txt'}, page_content='In the heart of the old quarter of Palermo, amidst the bustling market stalls and the echoes of lively street life, Amico was born into a family where food was more than sustenance—it was the language of love. Raised in the warmth of his Nonna Lucia\\'s kitchen, young Amico was captivated by the symphony of flavors and aromas that danced in the air, a testament to his family’s Sicilian heritage.\\n\\nAmico\\'s life was deeply entwined with the vibrant essence of Sicilian cuisine. In the rustic kitchen where his Nonna conjured culinary magic, Amico found his calling. These formative years, filled with the rhythmic chopping of fresh herbs and the sizzling of rich tomato sauces, laid the foundation of his passion for cooking.\\n\\nThe Journey to Chef Amico\\n\\nFrom a young age, Amico was immersed in the art of Sicilian cooking. His days were punctuated by visits to the bustling markets of Palermo, where he learned to choose the freshest fish from the Mediterranean and the ripest fruits kissed by the Sicilian sun. These experiences not only sharpened his culinary skills but also deepened his respect for the land and its bounty.\\n\\nAs he grew, so did his desire to explore beyond the shores of Sicily. Venturing through Italy, Amico worked alongside renowned chefs, each teaching him a new facet of Italian cuisine. From the rolling hills of Tuscany to the romantic canals of Venice, he absorbed the diverse regional flavors, techniques, and traditions that would later influence his unique culinary style.\\n\\nCreating Chef Amico’s Restaurant\\n\\nReturning to Palermo with a vision, Amico opened the doors to \"Chef Amico,\" a restaurant that was a culmination of his travels and a tribute to his Sicilian roots. Nestled in a quaint corner of the city, the restaurant quickly gained fame for its authentic flavors and Amico’s innovative twists on traditional recipes.\\n\\nAt Chef Amico, every dish told a story. The menu, a tapestry of Sicilian classics and modern Italian cuisine, reflected Amico’s journey and his commitment to excellence. Patrons were not just diners; they were part of an extended family, welcomed with the same warmth and joy that Amico had experienced in his Nonna’s kitchen.\\n\\nPhilosophy of Hospitality\\n\\nFor Amico, hospitality was an art form. He believed that a meal was a celebration, a moment to pause and relish life’s simple pleasures. His restaurant was a haven where strangers became friends over plates of arancini and glasses of Nero d’Avola. The atmosphere he fostered was one of comfort and camaraderie, a place where every guest left with a full stomach and a happy heart.\\n\\nContinuing the Legacy\\n\\nToday, Chef Amico stands as a landmark in Palermo, a testament to Amico’s dedication and love for his craft. His spirit of generosity and passion for food extends beyond the restaurant’s walls. He mentors young chefs, shares his knowledge at culinary workshops, and supports local farmers and producers.\\n\\nAmico’s legacy is not just in the dishes he creates but in the community he nurtures. His story is a tribute to the power of food to connect us, to share our stories, and to celebrate the richness of life. Chef Amico is more than a restaurant; it\\'s a home, built on a lifetime of love, learning, and the flavors of Sicily.')]]"
      ]
     },
     "execution_count": 16,
     "metadata": {},
     "output_type": "execute_result"
    }
   ],
   "source": [
    "docs"
   ]
  },
  {
   "cell_type": "code",
   "execution_count": 18,
   "id": "6cb12adb",
   "metadata": {},
   "outputs": [],
   "source": [
    "#per togliere i duplicati\n",
    "def flatten_and_unique_documents(documents):\n",
    "    flattened_docs = [doc for sublist in documents for doc in sublist]\n",
    "\n",
    "    unique_docs = []\n",
    "    unique_contents = set()\n",
    "    for doc in flattened_docs:\n",
    "        if doc.page_content not in unique_contents:\n",
    "            unique_docs.append(doc)\n",
    "            unique_contents.add(doc.page_content)\n",
    "\n",
    "    return unique_docs"
   ]
  },
  {
   "cell_type": "code",
   "execution_count": 19,
   "id": "a38008ec",
   "metadata": {},
   "outputs": [
    {
     "data": {
      "text/plain": [
       "[Document(metadata={'source': 'data\\\\restaurant.txt'}, page_content=\"In the charming streets of Palermo, tucked away in a quaint alley, stood Chef Amico, a restaurant that was more than a mere eatery—it was a slice of Sicilian heaven. Founded by Amico, a chef whose name was synonymous with passion and creativity, the restaurant was a mosaic of his life’s journey through the flavors of Italy.\\n\\nChef Amico’s doors opened to a world where the aromas of garlic and olive oil were as welcoming as a warm embrace. The walls, adorned with photos of Amico’s travels and family recipes, spoke of a rich culinary heritage. The chatter and laughter of patrons filled the air, creating a symphony as delightful as the dishes served.\\n\\nOne evening, as the sun cast a golden glow over the city, a renowned food critic, Elena Rossi, stepped into Chef Amico. Her mission was to uncover the secret behind the restaurant's growing fame. She was greeted by Amico himself, whose eyes sparkled with the joy of a man who loved his work.\\n\\nElena was led to a table adorned with a simple, elegant setting. The first course was Caponata, a melody of eggplant, capers, and sweet tomatoes, which danced on her palate. Next came the Risotto al Nero di Seppia, a dish that told the tale of Sicily’s love affair with the sea. Each spoonful was a revelation, the rich flavors of squid ink harmonizing with the creamy rice.\\n\\nThe final masterpiece was Cannoli, the crown jewel of Sicilian desserts. As Elena savored the sweet ricotta filling, encased in a perfectly crisp shell, she realized that Chef Amico wasn’t just about the food. It was about the stories, the traditions, and the heart poured into every dish.\\n\\nLeaving the restaurant, Elena knew her review would sing praises not just of the food, but of the soul of Chef Amico—a place where every dish was a journey through Sicily, and every bite, a taste of Amico’s dream come true.\"),\n",
       " Document(metadata={'source': 'data\\\\founder.txt'}, page_content='In the heart of the old quarter of Palermo, amidst the bustling market stalls and the echoes of lively street life, Amico was born into a family where food was more than sustenance—it was the language of love. Raised in the warmth of his Nonna Lucia\\'s kitchen, young Amico was captivated by the symphony of flavors and aromas that danced in the air, a testament to his family’s Sicilian heritage.\\n\\nAmico\\'s life was deeply entwined with the vibrant essence of Sicilian cuisine. In the rustic kitchen where his Nonna conjured culinary magic, Amico found his calling. These formative years, filled with the rhythmic chopping of fresh herbs and the sizzling of rich tomato sauces, laid the foundation of his passion for cooking.\\n\\nThe Journey to Chef Amico\\n\\nFrom a young age, Amico was immersed in the art of Sicilian cooking. His days were punctuated by visits to the bustling markets of Palermo, where he learned to choose the freshest fish from the Mediterranean and the ripest fruits kissed by the Sicilian sun. These experiences not only sharpened his culinary skills but also deepened his respect for the land and its bounty.\\n\\nAs he grew, so did his desire to explore beyond the shores of Sicily. Venturing through Italy, Amico worked alongside renowned chefs, each teaching him a new facet of Italian cuisine. From the rolling hills of Tuscany to the romantic canals of Venice, he absorbed the diverse regional flavors, techniques, and traditions that would later influence his unique culinary style.\\n\\nCreating Chef Amico’s Restaurant\\n\\nReturning to Palermo with a vision, Amico opened the doors to \"Chef Amico,\" a restaurant that was a culmination of his travels and a tribute to his Sicilian roots. Nestled in a quaint corner of the city, the restaurant quickly gained fame for its authentic flavors and Amico’s innovative twists on traditional recipes.\\n\\nAt Chef Amico, every dish told a story. The menu, a tapestry of Sicilian classics and modern Italian cuisine, reflected Amico’s journey and his commitment to excellence. Patrons were not just diners; they were part of an extended family, welcomed with the same warmth and joy that Amico had experienced in his Nonna’s kitchen.\\n\\nPhilosophy of Hospitality\\n\\nFor Amico, hospitality was an art form. He believed that a meal was a celebration, a moment to pause and relish life’s simple pleasures. His restaurant was a haven where strangers became friends over plates of arancini and glasses of Nero d’Avola. The atmosphere he fostered was one of comfort and camaraderie, a place where every guest left with a full stomach and a happy heart.\\n\\nContinuing the Legacy\\n\\nToday, Chef Amico stands as a landmark in Palermo, a testament to Amico’s dedication and love for his craft. His spirit of generosity and passion for food extends beyond the restaurant’s walls. He mentors young chefs, shares his knowledge at culinary workshops, and supports local farmers and producers.\\n\\nAmico’s legacy is not just in the dishes he creates but in the community he nurtures. His story is a tribute to the power of food to connect us, to share our stories, and to celebrate the richness of life. Chef Amico is more than a restaurant; it\\'s a home, built on a lifetime of love, learning, and the flavors of Sicily.')]"
      ]
     },
     "execution_count": 19,
     "metadata": {},
     "output_type": "execute_result"
    }
   ],
   "source": [
    "flatten_and_unique_documents(documents=docs)"
   ]
  },
  {
   "cell_type": "markdown",
   "id": "9f968f3d",
   "metadata": {},
   "source": [
    "---\n",
    "\n",
    "### ✅ Vantaggi\n",
    "\n",
    "* ✅ Migliore copertura semantica → aumento del **recall**\n",
    "* ✅ Minimizza il rischio che una query troppo letterale fallisca\n",
    "* ✅ Approccio semplice da implementare con `LangChain Runnable`\n",
    "\n",
    "---\n",
    "\n",
    "## 🔁 A seguire: Approccio HyDE (Hypothetical Document Embeddings)\n",
    "\n",
    "Nel prossimo video imparerai come generare **risposte ipotetiche** alla domanda e usarle come base per il retrieval — un'alternativa efficace quando le domande sono troppo ambigue o generiche."
   ]
  }
 ],
 "metadata": {
  "kernelspec": {
   "display_name": ".venv",
   "language": "python",
   "name": "python3"
  },
  "language_info": {
   "codemirror_mode": {
    "name": "ipython",
    "version": 3
   },
   "file_extension": ".py",
   "mimetype": "text/x-python",
   "name": "python",
   "nbconvert_exporter": "python",
   "pygments_lexer": "ipython3",
   "version": "3.10.0"
  }
 },
 "nbformat": 4,
 "nbformat_minor": 5
}
